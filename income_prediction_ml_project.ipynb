{
 "cells": [
  {
   "cell_type": "markdown",
   "metadata": {},
   "source": [
    "Predicting whether income exceeds $50K/yr based on census data. "
   ]
  },
  {
   "cell_type": "markdown",
   "metadata": {},
   "source": [
    "dataset - https://archive.ics.uci.edu/dataset/2/adult"
   ]
  },
  {
   "cell_type": "markdown",
   "metadata": {},
   "source": [
    "Attributes \n",
    "\n",
    "age: continuous.\n",
    "workclass: Private, Self-emp-not-inc, Self-emp-inc, Federal-gov, Local-gov, State-gov, Without-pay, Never-worked.\n",
    "fnlwgt: continuous.\n",
    "education: Bachelors, Some-college, 11th, HS-grad, Prof-school, Assoc-acdm, Assoc-voc, 9th, 7th-8th, 12th, Masters, 1st-4th, 10th, Doctorate, 5th-6th, Preschool.\n",
    "education-num: continuous.\n",
    "marital-status: Married-civ-spouse, Divorced, Never-married, Separated, Widowed, Married-spouse-absent, Married-AF-spouse.\n",
    "occupation: Tech-support, Craft-repair, Other-service, Sales, Exec-managerial, Prof-specialty, Handlers-cleaners, Machine-op-inspct, Adm-clerical, Farming-fishing, Transport-moving, Priv-house-serv, Protective-serv, Armed-Forces.\n",
    "relationship: Wife, Own-child, Husband, Not-in-family, Other-relative, Unmarried.\n",
    "race: White, Asian-Pac-Islander, Amer-Indian-Eskimo, Other, Black.\n",
    "sex: Female, Male.\n",
    "capital-gain: continuous.\n",
    "capital-loss: continuous.\n",
    "hours-per-week: continuous.\n",
    "native-country: United-States, Cambodia, England, Puerto-Rico, Canada, Germany, Outlying-US(Guam-USVI-etc), India, Japan, Greece, South, China, Cuba, Iran, Honduras, Philippines, Italy, Poland, Jamaica, Vietnam, Mexico, Portugal, Ireland, France, Dominican-Republic, Laos, Ecuador, Taiwan, Haiti, Columbia, Hungary, Guatemala, Nicaragua, Scotland, Thailand, Yugoslavia, El-Salvador, Trinadad&Tobago, Peru, Hong, Holand-Netherlands.\n",
    "income: >50K, <=50K."
   ]
  },
  {
   "cell_type": "code",
   "execution_count": 1,
   "metadata": {},
   "outputs": [],
   "source": [
    "import pandas as pd\n",
    "import numpy as np\n",
    "import matplotlib.pyplot as plt\n",
    "import seaborn as sns"
   ]
  },
  {
   "cell_type": "code",
   "execution_count": 2,
   "metadata": {},
   "outputs": [],
   "source": [
    "import os"
   ]
  },
  {
   "cell_type": "markdown",
   "metadata": {},
   "source": [
    "## Create DataFrames"
   ]
  },
  {
   "cell_type": "code",
   "execution_count": 3,
   "metadata": {},
   "outputs": [],
   "source": [
    "# define training and testing file paths\n",
    "train_data_file_path = 'Dataset\\\\adult.data'\n",
    "test_data_file_path = 'Dataset\\\\adult.test'"
   ]
  },
  {
   "cell_type": "code",
   "execution_count": 4,
   "metadata": {},
   "outputs": [],
   "source": [
    "# define column names\n",
    "column_names = [\n",
    "    \"Age\", \n",
    "    \"Work_class\", \n",
    "    \"Final_Weight\", \n",
    "    \"Education\", \n",
    "    \"Education_Num\", \n",
    "    \"Marital_Status\", \n",
    "    \"Occupation\",\n",
    "    \"Relationship\", \n",
    "    \"Race\", \n",
    "    \"Sex\", \n",
    "    \"Capital_Gain\", \n",
    "    \"Capital_Loss\", \n",
    "    \"Hours_per_Week\", \n",
    "    \"Native_Country\",\n",
    "    \"Income\"\n",
    "]"
   ]
  },
  {
   "cell_type": "markdown",
   "metadata": {},
   "source": [
    "Reference - https://pandas.pydata.org/pandas-docs/stable/reference/api/pandas.read_csv.html"
   ]
  },
  {
   "cell_type": "code",
   "execution_count": 5,
   "metadata": {},
   "outputs": [],
   "source": [
    "# read training dataset into DataFrame\n",
    "try:\n",
    "    train_data = pd.read_csv(train_data_file_path, delimiter=',', names=column_names, skipinitialspace=True)\n",
    "except FileNotFoundError:\n",
    "    print(f\"Error: File '{train_data_file_path}' not found.\")\n",
    "    exit()"
   ]
  },
  {
   "cell_type": "code",
   "execution_count": 6,
   "metadata": {},
   "outputs": [
    {
     "data": {
      "text/html": [
       "<div>\n",
       "<style scoped>\n",
       "    .dataframe tbody tr th:only-of-type {\n",
       "        vertical-align: middle;\n",
       "    }\n",
       "\n",
       "    .dataframe tbody tr th {\n",
       "        vertical-align: top;\n",
       "    }\n",
       "\n",
       "    .dataframe thead th {\n",
       "        text-align: right;\n",
       "    }\n",
       "</style>\n",
       "<table border=\"1\" class=\"dataframe\">\n",
       "  <thead>\n",
       "    <tr style=\"text-align: right;\">\n",
       "      <th></th>\n",
       "      <th>Age</th>\n",
       "      <th>Work_class</th>\n",
       "      <th>Final_Weight</th>\n",
       "      <th>Education</th>\n",
       "      <th>Education_Num</th>\n",
       "      <th>Marital_Status</th>\n",
       "      <th>Occupation</th>\n",
       "      <th>Relationship</th>\n",
       "      <th>Race</th>\n",
       "      <th>Sex</th>\n",
       "      <th>Capital_Gain</th>\n",
       "      <th>Capital_Loss</th>\n",
       "      <th>Hours_per_Week</th>\n",
       "      <th>Native_Country</th>\n",
       "      <th>Income</th>\n",
       "    </tr>\n",
       "  </thead>\n",
       "  <tbody>\n",
       "    <tr>\n",
       "      <th>0</th>\n",
       "      <td>39</td>\n",
       "      <td>State-gov</td>\n",
       "      <td>77516</td>\n",
       "      <td>Bachelors</td>\n",
       "      <td>13</td>\n",
       "      <td>Never-married</td>\n",
       "      <td>Adm-clerical</td>\n",
       "      <td>Not-in-family</td>\n",
       "      <td>White</td>\n",
       "      <td>Male</td>\n",
       "      <td>2174</td>\n",
       "      <td>0</td>\n",
       "      <td>40</td>\n",
       "      <td>United-States</td>\n",
       "      <td>&lt;=50K</td>\n",
       "    </tr>\n",
       "    <tr>\n",
       "      <th>1</th>\n",
       "      <td>50</td>\n",
       "      <td>Self-emp-not-inc</td>\n",
       "      <td>83311</td>\n",
       "      <td>Bachelors</td>\n",
       "      <td>13</td>\n",
       "      <td>Married-civ-spouse</td>\n",
       "      <td>Exec-managerial</td>\n",
       "      <td>Husband</td>\n",
       "      <td>White</td>\n",
       "      <td>Male</td>\n",
       "      <td>0</td>\n",
       "      <td>0</td>\n",
       "      <td>13</td>\n",
       "      <td>United-States</td>\n",
       "      <td>&lt;=50K</td>\n",
       "    </tr>\n",
       "    <tr>\n",
       "      <th>2</th>\n",
       "      <td>38</td>\n",
       "      <td>Private</td>\n",
       "      <td>215646</td>\n",
       "      <td>HS-grad</td>\n",
       "      <td>9</td>\n",
       "      <td>Divorced</td>\n",
       "      <td>Handlers-cleaners</td>\n",
       "      <td>Not-in-family</td>\n",
       "      <td>White</td>\n",
       "      <td>Male</td>\n",
       "      <td>0</td>\n",
       "      <td>0</td>\n",
       "      <td>40</td>\n",
       "      <td>United-States</td>\n",
       "      <td>&lt;=50K</td>\n",
       "    </tr>\n",
       "    <tr>\n",
       "      <th>3</th>\n",
       "      <td>53</td>\n",
       "      <td>Private</td>\n",
       "      <td>234721</td>\n",
       "      <td>11th</td>\n",
       "      <td>7</td>\n",
       "      <td>Married-civ-spouse</td>\n",
       "      <td>Handlers-cleaners</td>\n",
       "      <td>Husband</td>\n",
       "      <td>Black</td>\n",
       "      <td>Male</td>\n",
       "      <td>0</td>\n",
       "      <td>0</td>\n",
       "      <td>40</td>\n",
       "      <td>United-States</td>\n",
       "      <td>&lt;=50K</td>\n",
       "    </tr>\n",
       "    <tr>\n",
       "      <th>4</th>\n",
       "      <td>28</td>\n",
       "      <td>Private</td>\n",
       "      <td>338409</td>\n",
       "      <td>Bachelors</td>\n",
       "      <td>13</td>\n",
       "      <td>Married-civ-spouse</td>\n",
       "      <td>Prof-specialty</td>\n",
       "      <td>Wife</td>\n",
       "      <td>Black</td>\n",
       "      <td>Female</td>\n",
       "      <td>0</td>\n",
       "      <td>0</td>\n",
       "      <td>40</td>\n",
       "      <td>Cuba</td>\n",
       "      <td>&lt;=50K</td>\n",
       "    </tr>\n",
       "    <tr>\n",
       "      <th>5</th>\n",
       "      <td>37</td>\n",
       "      <td>Private</td>\n",
       "      <td>284582</td>\n",
       "      <td>Masters</td>\n",
       "      <td>14</td>\n",
       "      <td>Married-civ-spouse</td>\n",
       "      <td>Exec-managerial</td>\n",
       "      <td>Wife</td>\n",
       "      <td>White</td>\n",
       "      <td>Female</td>\n",
       "      <td>0</td>\n",
       "      <td>0</td>\n",
       "      <td>40</td>\n",
       "      <td>United-States</td>\n",
       "      <td>&lt;=50K</td>\n",
       "    </tr>\n",
       "    <tr>\n",
       "      <th>6</th>\n",
       "      <td>49</td>\n",
       "      <td>Private</td>\n",
       "      <td>160187</td>\n",
       "      <td>9th</td>\n",
       "      <td>5</td>\n",
       "      <td>Married-spouse-absent</td>\n",
       "      <td>Other-service</td>\n",
       "      <td>Not-in-family</td>\n",
       "      <td>Black</td>\n",
       "      <td>Female</td>\n",
       "      <td>0</td>\n",
       "      <td>0</td>\n",
       "      <td>16</td>\n",
       "      <td>Jamaica</td>\n",
       "      <td>&lt;=50K</td>\n",
       "    </tr>\n",
       "    <tr>\n",
       "      <th>7</th>\n",
       "      <td>52</td>\n",
       "      <td>Self-emp-not-inc</td>\n",
       "      <td>209642</td>\n",
       "      <td>HS-grad</td>\n",
       "      <td>9</td>\n",
       "      <td>Married-civ-spouse</td>\n",
       "      <td>Exec-managerial</td>\n",
       "      <td>Husband</td>\n",
       "      <td>White</td>\n",
       "      <td>Male</td>\n",
       "      <td>0</td>\n",
       "      <td>0</td>\n",
       "      <td>45</td>\n",
       "      <td>United-States</td>\n",
       "      <td>&gt;50K</td>\n",
       "    </tr>\n",
       "    <tr>\n",
       "      <th>8</th>\n",
       "      <td>31</td>\n",
       "      <td>Private</td>\n",
       "      <td>45781</td>\n",
       "      <td>Masters</td>\n",
       "      <td>14</td>\n",
       "      <td>Never-married</td>\n",
       "      <td>Prof-specialty</td>\n",
       "      <td>Not-in-family</td>\n",
       "      <td>White</td>\n",
       "      <td>Female</td>\n",
       "      <td>14084</td>\n",
       "      <td>0</td>\n",
       "      <td>50</td>\n",
       "      <td>United-States</td>\n",
       "      <td>&gt;50K</td>\n",
       "    </tr>\n",
       "    <tr>\n",
       "      <th>9</th>\n",
       "      <td>42</td>\n",
       "      <td>Private</td>\n",
       "      <td>159449</td>\n",
       "      <td>Bachelors</td>\n",
       "      <td>13</td>\n",
       "      <td>Married-civ-spouse</td>\n",
       "      <td>Exec-managerial</td>\n",
       "      <td>Husband</td>\n",
       "      <td>White</td>\n",
       "      <td>Male</td>\n",
       "      <td>5178</td>\n",
       "      <td>0</td>\n",
       "      <td>40</td>\n",
       "      <td>United-States</td>\n",
       "      <td>&gt;50K</td>\n",
       "    </tr>\n",
       "  </tbody>\n",
       "</table>\n",
       "</div>"
      ],
      "text/plain": [
       "   Age        Work_class  Final_Weight  Education  Education_Num  \\\n",
       "0   39         State-gov         77516  Bachelors             13   \n",
       "1   50  Self-emp-not-inc         83311  Bachelors             13   \n",
       "2   38           Private        215646    HS-grad              9   \n",
       "3   53           Private        234721       11th              7   \n",
       "4   28           Private        338409  Bachelors             13   \n",
       "5   37           Private        284582    Masters             14   \n",
       "6   49           Private        160187        9th              5   \n",
       "7   52  Self-emp-not-inc        209642    HS-grad              9   \n",
       "8   31           Private         45781    Masters             14   \n",
       "9   42           Private        159449  Bachelors             13   \n",
       "\n",
       "          Marital_Status         Occupation   Relationship   Race     Sex  \\\n",
       "0          Never-married       Adm-clerical  Not-in-family  White    Male   \n",
       "1     Married-civ-spouse    Exec-managerial        Husband  White    Male   \n",
       "2               Divorced  Handlers-cleaners  Not-in-family  White    Male   \n",
       "3     Married-civ-spouse  Handlers-cleaners        Husband  Black    Male   \n",
       "4     Married-civ-spouse     Prof-specialty           Wife  Black  Female   \n",
       "5     Married-civ-spouse    Exec-managerial           Wife  White  Female   \n",
       "6  Married-spouse-absent      Other-service  Not-in-family  Black  Female   \n",
       "7     Married-civ-spouse    Exec-managerial        Husband  White    Male   \n",
       "8          Never-married     Prof-specialty  Not-in-family  White  Female   \n",
       "9     Married-civ-spouse    Exec-managerial        Husband  White    Male   \n",
       "\n",
       "   Capital_Gain  Capital_Loss  Hours_per_Week Native_Country Income  \n",
       "0          2174             0              40  United-States  <=50K  \n",
       "1             0             0              13  United-States  <=50K  \n",
       "2             0             0              40  United-States  <=50K  \n",
       "3             0             0              40  United-States  <=50K  \n",
       "4             0             0              40           Cuba  <=50K  \n",
       "5             0             0              40  United-States  <=50K  \n",
       "6             0             0              16        Jamaica  <=50K  \n",
       "7             0             0              45  United-States   >50K  \n",
       "8         14084             0              50  United-States   >50K  \n",
       "9          5178             0              40  United-States   >50K  "
      ]
     },
     "execution_count": 6,
     "metadata": {},
     "output_type": "execute_result"
    }
   ],
   "source": [
    "# preview after adding into DataFrame\n",
    "train_data.head(10)"
   ]
  },
  {
   "cell_type": "code",
   "execution_count": 7,
   "metadata": {},
   "outputs": [],
   "source": [
    "# read testing dataset into DataFrame\n",
    "# 1st row (header)should remove in adult.test file \n",
    "try:\n",
    "    test_data = pd.read_csv(test_data_file_path, delimiter=',', names=column_names, skipinitialspace=True, skiprows=1)\n",
    "except FileNotFoundError:\n",
    "    print(f\"Error: File '{test_data_file_path}' not found.\")\n",
    "    exit()"
   ]
  },
  {
   "cell_type": "code",
   "execution_count": 8,
   "metadata": {},
   "outputs": [
    {
     "data": {
      "text/html": [
       "<div>\n",
       "<style scoped>\n",
       "    .dataframe tbody tr th:only-of-type {\n",
       "        vertical-align: middle;\n",
       "    }\n",
       "\n",
       "    .dataframe tbody tr th {\n",
       "        vertical-align: top;\n",
       "    }\n",
       "\n",
       "    .dataframe thead th {\n",
       "        text-align: right;\n",
       "    }\n",
       "</style>\n",
       "<table border=\"1\" class=\"dataframe\">\n",
       "  <thead>\n",
       "    <tr style=\"text-align: right;\">\n",
       "      <th></th>\n",
       "      <th>Age</th>\n",
       "      <th>Work_class</th>\n",
       "      <th>Final_Weight</th>\n",
       "      <th>Education</th>\n",
       "      <th>Education_Num</th>\n",
       "      <th>Marital_Status</th>\n",
       "      <th>Occupation</th>\n",
       "      <th>Relationship</th>\n",
       "      <th>Race</th>\n",
       "      <th>Sex</th>\n",
       "      <th>Capital_Gain</th>\n",
       "      <th>Capital_Loss</th>\n",
       "      <th>Hours_per_Week</th>\n",
       "      <th>Native_Country</th>\n",
       "      <th>Income</th>\n",
       "    </tr>\n",
       "  </thead>\n",
       "  <tbody>\n",
       "    <tr>\n",
       "      <th>0</th>\n",
       "      <td>25</td>\n",
       "      <td>Private</td>\n",
       "      <td>226802</td>\n",
       "      <td>11th</td>\n",
       "      <td>7</td>\n",
       "      <td>Never-married</td>\n",
       "      <td>Machine-op-inspct</td>\n",
       "      <td>Own-child</td>\n",
       "      <td>Black</td>\n",
       "      <td>Male</td>\n",
       "      <td>0</td>\n",
       "      <td>0</td>\n",
       "      <td>40</td>\n",
       "      <td>United-States</td>\n",
       "      <td>&lt;=50K.</td>\n",
       "    </tr>\n",
       "    <tr>\n",
       "      <th>1</th>\n",
       "      <td>38</td>\n",
       "      <td>Private</td>\n",
       "      <td>89814</td>\n",
       "      <td>HS-grad</td>\n",
       "      <td>9</td>\n",
       "      <td>Married-civ-spouse</td>\n",
       "      <td>Farming-fishing</td>\n",
       "      <td>Husband</td>\n",
       "      <td>White</td>\n",
       "      <td>Male</td>\n",
       "      <td>0</td>\n",
       "      <td>0</td>\n",
       "      <td>50</td>\n",
       "      <td>United-States</td>\n",
       "      <td>&lt;=50K.</td>\n",
       "    </tr>\n",
       "    <tr>\n",
       "      <th>2</th>\n",
       "      <td>28</td>\n",
       "      <td>Local-gov</td>\n",
       "      <td>336951</td>\n",
       "      <td>Assoc-acdm</td>\n",
       "      <td>12</td>\n",
       "      <td>Married-civ-spouse</td>\n",
       "      <td>Protective-serv</td>\n",
       "      <td>Husband</td>\n",
       "      <td>White</td>\n",
       "      <td>Male</td>\n",
       "      <td>0</td>\n",
       "      <td>0</td>\n",
       "      <td>40</td>\n",
       "      <td>United-States</td>\n",
       "      <td>&gt;50K.</td>\n",
       "    </tr>\n",
       "    <tr>\n",
       "      <th>3</th>\n",
       "      <td>44</td>\n",
       "      <td>Private</td>\n",
       "      <td>160323</td>\n",
       "      <td>Some-college</td>\n",
       "      <td>10</td>\n",
       "      <td>Married-civ-spouse</td>\n",
       "      <td>Machine-op-inspct</td>\n",
       "      <td>Husband</td>\n",
       "      <td>Black</td>\n",
       "      <td>Male</td>\n",
       "      <td>7688</td>\n",
       "      <td>0</td>\n",
       "      <td>40</td>\n",
       "      <td>United-States</td>\n",
       "      <td>&gt;50K.</td>\n",
       "    </tr>\n",
       "    <tr>\n",
       "      <th>4</th>\n",
       "      <td>18</td>\n",
       "      <td>?</td>\n",
       "      <td>103497</td>\n",
       "      <td>Some-college</td>\n",
       "      <td>10</td>\n",
       "      <td>Never-married</td>\n",
       "      <td>?</td>\n",
       "      <td>Own-child</td>\n",
       "      <td>White</td>\n",
       "      <td>Female</td>\n",
       "      <td>0</td>\n",
       "      <td>0</td>\n",
       "      <td>30</td>\n",
       "      <td>United-States</td>\n",
       "      <td>&lt;=50K.</td>\n",
       "    </tr>\n",
       "    <tr>\n",
       "      <th>5</th>\n",
       "      <td>34</td>\n",
       "      <td>Private</td>\n",
       "      <td>198693</td>\n",
       "      <td>10th</td>\n",
       "      <td>6</td>\n",
       "      <td>Never-married</td>\n",
       "      <td>Other-service</td>\n",
       "      <td>Not-in-family</td>\n",
       "      <td>White</td>\n",
       "      <td>Male</td>\n",
       "      <td>0</td>\n",
       "      <td>0</td>\n",
       "      <td>30</td>\n",
       "      <td>United-States</td>\n",
       "      <td>&lt;=50K.</td>\n",
       "    </tr>\n",
       "    <tr>\n",
       "      <th>6</th>\n",
       "      <td>29</td>\n",
       "      <td>?</td>\n",
       "      <td>227026</td>\n",
       "      <td>HS-grad</td>\n",
       "      <td>9</td>\n",
       "      <td>Never-married</td>\n",
       "      <td>?</td>\n",
       "      <td>Unmarried</td>\n",
       "      <td>Black</td>\n",
       "      <td>Male</td>\n",
       "      <td>0</td>\n",
       "      <td>0</td>\n",
       "      <td>40</td>\n",
       "      <td>United-States</td>\n",
       "      <td>&lt;=50K.</td>\n",
       "    </tr>\n",
       "    <tr>\n",
       "      <th>7</th>\n",
       "      <td>63</td>\n",
       "      <td>Self-emp-not-inc</td>\n",
       "      <td>104626</td>\n",
       "      <td>Prof-school</td>\n",
       "      <td>15</td>\n",
       "      <td>Married-civ-spouse</td>\n",
       "      <td>Prof-specialty</td>\n",
       "      <td>Husband</td>\n",
       "      <td>White</td>\n",
       "      <td>Male</td>\n",
       "      <td>3103</td>\n",
       "      <td>0</td>\n",
       "      <td>32</td>\n",
       "      <td>United-States</td>\n",
       "      <td>&gt;50K.</td>\n",
       "    </tr>\n",
       "    <tr>\n",
       "      <th>8</th>\n",
       "      <td>24</td>\n",
       "      <td>Private</td>\n",
       "      <td>369667</td>\n",
       "      <td>Some-college</td>\n",
       "      <td>10</td>\n",
       "      <td>Never-married</td>\n",
       "      <td>Other-service</td>\n",
       "      <td>Unmarried</td>\n",
       "      <td>White</td>\n",
       "      <td>Female</td>\n",
       "      <td>0</td>\n",
       "      <td>0</td>\n",
       "      <td>40</td>\n",
       "      <td>United-States</td>\n",
       "      <td>&lt;=50K.</td>\n",
       "    </tr>\n",
       "    <tr>\n",
       "      <th>9</th>\n",
       "      <td>55</td>\n",
       "      <td>Private</td>\n",
       "      <td>104996</td>\n",
       "      <td>7th-8th</td>\n",
       "      <td>4</td>\n",
       "      <td>Married-civ-spouse</td>\n",
       "      <td>Craft-repair</td>\n",
       "      <td>Husband</td>\n",
       "      <td>White</td>\n",
       "      <td>Male</td>\n",
       "      <td>0</td>\n",
       "      <td>0</td>\n",
       "      <td>10</td>\n",
       "      <td>United-States</td>\n",
       "      <td>&lt;=50K.</td>\n",
       "    </tr>\n",
       "  </tbody>\n",
       "</table>\n",
       "</div>"
      ],
      "text/plain": [
       "   Age        Work_class  Final_Weight     Education  Education_Num  \\\n",
       "0   25           Private        226802          11th              7   \n",
       "1   38           Private         89814       HS-grad              9   \n",
       "2   28         Local-gov        336951    Assoc-acdm             12   \n",
       "3   44           Private        160323  Some-college             10   \n",
       "4   18                 ?        103497  Some-college             10   \n",
       "5   34           Private        198693          10th              6   \n",
       "6   29                 ?        227026       HS-grad              9   \n",
       "7   63  Self-emp-not-inc        104626   Prof-school             15   \n",
       "8   24           Private        369667  Some-college             10   \n",
       "9   55           Private        104996       7th-8th              4   \n",
       "\n",
       "       Marital_Status         Occupation   Relationship   Race     Sex  \\\n",
       "0       Never-married  Machine-op-inspct      Own-child  Black    Male   \n",
       "1  Married-civ-spouse    Farming-fishing        Husband  White    Male   \n",
       "2  Married-civ-spouse    Protective-serv        Husband  White    Male   \n",
       "3  Married-civ-spouse  Machine-op-inspct        Husband  Black    Male   \n",
       "4       Never-married                  ?      Own-child  White  Female   \n",
       "5       Never-married      Other-service  Not-in-family  White    Male   \n",
       "6       Never-married                  ?      Unmarried  Black    Male   \n",
       "7  Married-civ-spouse     Prof-specialty        Husband  White    Male   \n",
       "8       Never-married      Other-service      Unmarried  White  Female   \n",
       "9  Married-civ-spouse       Craft-repair        Husband  White    Male   \n",
       "\n",
       "   Capital_Gain  Capital_Loss  Hours_per_Week Native_Country  Income  \n",
       "0             0             0              40  United-States  <=50K.  \n",
       "1             0             0              50  United-States  <=50K.  \n",
       "2             0             0              40  United-States   >50K.  \n",
       "3          7688             0              40  United-States   >50K.  \n",
       "4             0             0              30  United-States  <=50K.  \n",
       "5             0             0              30  United-States  <=50K.  \n",
       "6             0             0              40  United-States  <=50K.  \n",
       "7          3103             0              32  United-States   >50K.  \n",
       "8             0             0              40  United-States  <=50K.  \n",
       "9             0             0              10  United-States  <=50K.  "
      ]
     },
     "execution_count": 8,
     "metadata": {},
     "output_type": "execute_result"
    }
   ],
   "source": [
    "# preview after adding into DataFrame\n",
    "test_data.head(10)"
   ]
  },
  {
   "cell_type": "markdown",
   "metadata": {},
   "source": [
    "### Merge DataFrames "
   ]
  },
  {
   "cell_type": "markdown",
   "metadata": {},
   "source": [
    "Reference -  https://pandas.pydata.org/docs/reference/api/pandas.concat.html\n",
    "             https://pandas.pydata.org/pandas-docs/stable/reference/api/pandas.DataFrame.sample.html#"
   ]
  },
  {
   "cell_type": "code",
   "execution_count": 9,
   "metadata": {},
   "outputs": [
    {
     "name": "stdout",
     "output_type": "stream",
     "text": [
      "Training Data\n",
      "Age                int64\n",
      "Work_class        object\n",
      "Final_Weight       int64\n",
      "Education         object\n",
      "Education_Num      int64\n",
      "Marital_Status    object\n",
      "Occupation        object\n",
      "Relationship      object\n",
      "Race              object\n",
      "Sex               object\n",
      "Capital_Gain       int64\n",
      "Capital_Loss       int64\n",
      "Hours_per_Week     int64\n",
      "Native_Country    object\n",
      "Income            object\n",
      "dtype: object\n",
      "\n",
      "Testing Data\n",
      "Age                int64\n",
      "Work_class        object\n",
      "Final_Weight       int64\n",
      "Education         object\n",
      "Education_Num      int64\n",
      "Marital_Status    object\n",
      "Occupation        object\n",
      "Relationship      object\n",
      "Race              object\n",
      "Sex               object\n",
      "Capital_Gain       int64\n",
      "Capital_Loss       int64\n",
      "Hours_per_Week     int64\n",
      "Native_Country    object\n",
      "Income            object\n",
      "dtype: object\n"
     ]
    }
   ],
   "source": [
    "# check data types of Training and Testing DataFrames\n",
    "print(\"Training Data\")\n",
    "print(train_data.dtypes)\n",
    "print(\"\")\n",
    "print(\"Testing Data\")\n",
    "print(test_data.dtypes)"
   ]
  },
  {
   "cell_type": "code",
   "execution_count": 10,
   "metadata": {},
   "outputs": [
    {
     "name": "stdout",
     "output_type": "stream",
     "text": [
      "Training Data\n",
      "Age               0\n",
      "Work_class        0\n",
      "Final_Weight      0\n",
      "Education         0\n",
      "Education_Num     0\n",
      "Marital_Status    0\n",
      "Occupation        0\n",
      "Relationship      0\n",
      "Race              0\n",
      "Sex               0\n",
      "Capital_Gain      0\n",
      "Capital_Loss      0\n",
      "Hours_per_Week    0\n",
      "Native_Country    0\n",
      "Income            0\n",
      "dtype: int64\n",
      "\n",
      "Testing Data\n",
      "Age               0\n",
      "Work_class        0\n",
      "Final_Weight      0\n",
      "Education         0\n",
      "Education_Num     0\n",
      "Marital_Status    0\n",
      "Occupation        0\n",
      "Relationship      0\n",
      "Race              0\n",
      "Sex               0\n",
      "Capital_Gain      0\n",
      "Capital_Loss      0\n",
      "Hours_per_Week    0\n",
      "Native_Country    0\n",
      "Income            0\n",
      "dtype: int64\n"
     ]
    }
   ],
   "source": [
    "# check null values of both DataFrames\n",
    "print(\"Training Data\")\n",
    "print(train_data.isnull().sum())\n",
    "print(\"\")\n",
    "print(\"Testing Data\")\n",
    "print(test_data.isnull().sum())"
   ]
  },
  {
   "cell_type": "code",
   "execution_count": 11,
   "metadata": {},
   "outputs": [],
   "source": [
    "# there are no any null values in both DataFrames\n",
    "# There is no difference in data types of columns\n",
    "# so we can combine into a single DataFrame\n",
    "census_income_df = pd.concat([train_data, test_data])"
   ]
  },
  {
   "cell_type": "code",
   "execution_count": 12,
   "metadata": {},
   "outputs": [
    {
     "data": {
      "text/html": [
       "<div>\n",
       "<style scoped>\n",
       "    .dataframe tbody tr th:only-of-type {\n",
       "        vertical-align: middle;\n",
       "    }\n",
       "\n",
       "    .dataframe tbody tr th {\n",
       "        vertical-align: top;\n",
       "    }\n",
       "\n",
       "    .dataframe thead th {\n",
       "        text-align: right;\n",
       "    }\n",
       "</style>\n",
       "<table border=\"1\" class=\"dataframe\">\n",
       "  <thead>\n",
       "    <tr style=\"text-align: right;\">\n",
       "      <th></th>\n",
       "      <th>Age</th>\n",
       "      <th>Work_class</th>\n",
       "      <th>Final_Weight</th>\n",
       "      <th>Education</th>\n",
       "      <th>Education_Num</th>\n",
       "      <th>Marital_Status</th>\n",
       "      <th>Occupation</th>\n",
       "      <th>Relationship</th>\n",
       "      <th>Race</th>\n",
       "      <th>Sex</th>\n",
       "      <th>Capital_Gain</th>\n",
       "      <th>Capital_Loss</th>\n",
       "      <th>Hours_per_Week</th>\n",
       "      <th>Native_Country</th>\n",
       "      <th>Income</th>\n",
       "    </tr>\n",
       "  </thead>\n",
       "  <tbody>\n",
       "    <tr>\n",
       "      <th>0</th>\n",
       "      <td>39</td>\n",
       "      <td>State-gov</td>\n",
       "      <td>77516</td>\n",
       "      <td>Bachelors</td>\n",
       "      <td>13</td>\n",
       "      <td>Never-married</td>\n",
       "      <td>Adm-clerical</td>\n",
       "      <td>Not-in-family</td>\n",
       "      <td>White</td>\n",
       "      <td>Male</td>\n",
       "      <td>2174</td>\n",
       "      <td>0</td>\n",
       "      <td>40</td>\n",
       "      <td>United-States</td>\n",
       "      <td>&lt;=50K</td>\n",
       "    </tr>\n",
       "    <tr>\n",
       "      <th>1</th>\n",
       "      <td>50</td>\n",
       "      <td>Self-emp-not-inc</td>\n",
       "      <td>83311</td>\n",
       "      <td>Bachelors</td>\n",
       "      <td>13</td>\n",
       "      <td>Married-civ-spouse</td>\n",
       "      <td>Exec-managerial</td>\n",
       "      <td>Husband</td>\n",
       "      <td>White</td>\n",
       "      <td>Male</td>\n",
       "      <td>0</td>\n",
       "      <td>0</td>\n",
       "      <td>13</td>\n",
       "      <td>United-States</td>\n",
       "      <td>&lt;=50K</td>\n",
       "    </tr>\n",
       "    <tr>\n",
       "      <th>2</th>\n",
       "      <td>38</td>\n",
       "      <td>Private</td>\n",
       "      <td>215646</td>\n",
       "      <td>HS-grad</td>\n",
       "      <td>9</td>\n",
       "      <td>Divorced</td>\n",
       "      <td>Handlers-cleaners</td>\n",
       "      <td>Not-in-family</td>\n",
       "      <td>White</td>\n",
       "      <td>Male</td>\n",
       "      <td>0</td>\n",
       "      <td>0</td>\n",
       "      <td>40</td>\n",
       "      <td>United-States</td>\n",
       "      <td>&lt;=50K</td>\n",
       "    </tr>\n",
       "    <tr>\n",
       "      <th>3</th>\n",
       "      <td>53</td>\n",
       "      <td>Private</td>\n",
       "      <td>234721</td>\n",
       "      <td>11th</td>\n",
       "      <td>7</td>\n",
       "      <td>Married-civ-spouse</td>\n",
       "      <td>Handlers-cleaners</td>\n",
       "      <td>Husband</td>\n",
       "      <td>Black</td>\n",
       "      <td>Male</td>\n",
       "      <td>0</td>\n",
       "      <td>0</td>\n",
       "      <td>40</td>\n",
       "      <td>United-States</td>\n",
       "      <td>&lt;=50K</td>\n",
       "    </tr>\n",
       "    <tr>\n",
       "      <th>4</th>\n",
       "      <td>28</td>\n",
       "      <td>Private</td>\n",
       "      <td>338409</td>\n",
       "      <td>Bachelors</td>\n",
       "      <td>13</td>\n",
       "      <td>Married-civ-spouse</td>\n",
       "      <td>Prof-specialty</td>\n",
       "      <td>Wife</td>\n",
       "      <td>Black</td>\n",
       "      <td>Female</td>\n",
       "      <td>0</td>\n",
       "      <td>0</td>\n",
       "      <td>40</td>\n",
       "      <td>Cuba</td>\n",
       "      <td>&lt;=50K</td>\n",
       "    </tr>\n",
       "    <tr>\n",
       "      <th>5</th>\n",
       "      <td>37</td>\n",
       "      <td>Private</td>\n",
       "      <td>284582</td>\n",
       "      <td>Masters</td>\n",
       "      <td>14</td>\n",
       "      <td>Married-civ-spouse</td>\n",
       "      <td>Exec-managerial</td>\n",
       "      <td>Wife</td>\n",
       "      <td>White</td>\n",
       "      <td>Female</td>\n",
       "      <td>0</td>\n",
       "      <td>0</td>\n",
       "      <td>40</td>\n",
       "      <td>United-States</td>\n",
       "      <td>&lt;=50K</td>\n",
       "    </tr>\n",
       "    <tr>\n",
       "      <th>6</th>\n",
       "      <td>49</td>\n",
       "      <td>Private</td>\n",
       "      <td>160187</td>\n",
       "      <td>9th</td>\n",
       "      <td>5</td>\n",
       "      <td>Married-spouse-absent</td>\n",
       "      <td>Other-service</td>\n",
       "      <td>Not-in-family</td>\n",
       "      <td>Black</td>\n",
       "      <td>Female</td>\n",
       "      <td>0</td>\n",
       "      <td>0</td>\n",
       "      <td>16</td>\n",
       "      <td>Jamaica</td>\n",
       "      <td>&lt;=50K</td>\n",
       "    </tr>\n",
       "    <tr>\n",
       "      <th>7</th>\n",
       "      <td>52</td>\n",
       "      <td>Self-emp-not-inc</td>\n",
       "      <td>209642</td>\n",
       "      <td>HS-grad</td>\n",
       "      <td>9</td>\n",
       "      <td>Married-civ-spouse</td>\n",
       "      <td>Exec-managerial</td>\n",
       "      <td>Husband</td>\n",
       "      <td>White</td>\n",
       "      <td>Male</td>\n",
       "      <td>0</td>\n",
       "      <td>0</td>\n",
       "      <td>45</td>\n",
       "      <td>United-States</td>\n",
       "      <td>&gt;50K</td>\n",
       "    </tr>\n",
       "    <tr>\n",
       "      <th>8</th>\n",
       "      <td>31</td>\n",
       "      <td>Private</td>\n",
       "      <td>45781</td>\n",
       "      <td>Masters</td>\n",
       "      <td>14</td>\n",
       "      <td>Never-married</td>\n",
       "      <td>Prof-specialty</td>\n",
       "      <td>Not-in-family</td>\n",
       "      <td>White</td>\n",
       "      <td>Female</td>\n",
       "      <td>14084</td>\n",
       "      <td>0</td>\n",
       "      <td>50</td>\n",
       "      <td>United-States</td>\n",
       "      <td>&gt;50K</td>\n",
       "    </tr>\n",
       "    <tr>\n",
       "      <th>9</th>\n",
       "      <td>42</td>\n",
       "      <td>Private</td>\n",
       "      <td>159449</td>\n",
       "      <td>Bachelors</td>\n",
       "      <td>13</td>\n",
       "      <td>Married-civ-spouse</td>\n",
       "      <td>Exec-managerial</td>\n",
       "      <td>Husband</td>\n",
       "      <td>White</td>\n",
       "      <td>Male</td>\n",
       "      <td>5178</td>\n",
       "      <td>0</td>\n",
       "      <td>40</td>\n",
       "      <td>United-States</td>\n",
       "      <td>&gt;50K</td>\n",
       "    </tr>\n",
       "  </tbody>\n",
       "</table>\n",
       "</div>"
      ],
      "text/plain": [
       "   Age        Work_class  Final_Weight  Education  Education_Num  \\\n",
       "0   39         State-gov         77516  Bachelors             13   \n",
       "1   50  Self-emp-not-inc         83311  Bachelors             13   \n",
       "2   38           Private        215646    HS-grad              9   \n",
       "3   53           Private        234721       11th              7   \n",
       "4   28           Private        338409  Bachelors             13   \n",
       "5   37           Private        284582    Masters             14   \n",
       "6   49           Private        160187        9th              5   \n",
       "7   52  Self-emp-not-inc        209642    HS-grad              9   \n",
       "8   31           Private         45781    Masters             14   \n",
       "9   42           Private        159449  Bachelors             13   \n",
       "\n",
       "          Marital_Status         Occupation   Relationship   Race     Sex  \\\n",
       "0          Never-married       Adm-clerical  Not-in-family  White    Male   \n",
       "1     Married-civ-spouse    Exec-managerial        Husband  White    Male   \n",
       "2               Divorced  Handlers-cleaners  Not-in-family  White    Male   \n",
       "3     Married-civ-spouse  Handlers-cleaners        Husband  Black    Male   \n",
       "4     Married-civ-spouse     Prof-specialty           Wife  Black  Female   \n",
       "5     Married-civ-spouse    Exec-managerial           Wife  White  Female   \n",
       "6  Married-spouse-absent      Other-service  Not-in-family  Black  Female   \n",
       "7     Married-civ-spouse    Exec-managerial        Husband  White    Male   \n",
       "8          Never-married     Prof-specialty  Not-in-family  White  Female   \n",
       "9     Married-civ-spouse    Exec-managerial        Husband  White    Male   \n",
       "\n",
       "   Capital_Gain  Capital_Loss  Hours_per_Week Native_Country Income  \n",
       "0          2174             0              40  United-States  <=50K  \n",
       "1             0             0              13  United-States  <=50K  \n",
       "2             0             0              40  United-States  <=50K  \n",
       "3             0             0              40  United-States  <=50K  \n",
       "4             0             0              40           Cuba  <=50K  \n",
       "5             0             0              40  United-States  <=50K  \n",
       "6             0             0              16        Jamaica  <=50K  \n",
       "7             0             0              45  United-States   >50K  \n",
       "8         14084             0              50  United-States   >50K  \n",
       "9          5178             0              40  United-States   >50K  "
      ]
     },
     "execution_count": 12,
     "metadata": {},
     "output_type": "execute_result"
    }
   ],
   "source": [
    "census_income_df.head(10)"
   ]
  },
  {
   "cell_type": "code",
   "execution_count": 13,
   "metadata": {},
   "outputs": [],
   "source": [
    "# Shuffle the merged data for prevents any bias and ensure the data is randomized\n",
    "census_income_df = census_income_df.sample(frac=1).reset_index(drop=True)"
   ]
  },
  {
   "cell_type": "code",
   "execution_count": 14,
   "metadata": {},
   "outputs": [
    {
     "data": {
      "text/html": [
       "<div>\n",
       "<style scoped>\n",
       "    .dataframe tbody tr th:only-of-type {\n",
       "        vertical-align: middle;\n",
       "    }\n",
       "\n",
       "    .dataframe tbody tr th {\n",
       "        vertical-align: top;\n",
       "    }\n",
       "\n",
       "    .dataframe thead th {\n",
       "        text-align: right;\n",
       "    }\n",
       "</style>\n",
       "<table border=\"1\" class=\"dataframe\">\n",
       "  <thead>\n",
       "    <tr style=\"text-align: right;\">\n",
       "      <th></th>\n",
       "      <th>Age</th>\n",
       "      <th>Work_class</th>\n",
       "      <th>Final_Weight</th>\n",
       "      <th>Education</th>\n",
       "      <th>Education_Num</th>\n",
       "      <th>Marital_Status</th>\n",
       "      <th>Occupation</th>\n",
       "      <th>Relationship</th>\n",
       "      <th>Race</th>\n",
       "      <th>Sex</th>\n",
       "      <th>Capital_Gain</th>\n",
       "      <th>Capital_Loss</th>\n",
       "      <th>Hours_per_Week</th>\n",
       "      <th>Native_Country</th>\n",
       "      <th>Income</th>\n",
       "    </tr>\n",
       "  </thead>\n",
       "  <tbody>\n",
       "    <tr>\n",
       "      <th>0</th>\n",
       "      <td>22</td>\n",
       "      <td>Private</td>\n",
       "      <td>187052</td>\n",
       "      <td>HS-grad</td>\n",
       "      <td>9</td>\n",
       "      <td>Never-married</td>\n",
       "      <td>Adm-clerical</td>\n",
       "      <td>Own-child</td>\n",
       "      <td>White</td>\n",
       "      <td>Female</td>\n",
       "      <td>0</td>\n",
       "      <td>0</td>\n",
       "      <td>40</td>\n",
       "      <td>United-States</td>\n",
       "      <td>&lt;=50K</td>\n",
       "    </tr>\n",
       "    <tr>\n",
       "      <th>1</th>\n",
       "      <td>40</td>\n",
       "      <td>Private</td>\n",
       "      <td>373050</td>\n",
       "      <td>12th</td>\n",
       "      <td>8</td>\n",
       "      <td>Married-civ-spouse</td>\n",
       "      <td>Other-service</td>\n",
       "      <td>Husband</td>\n",
       "      <td>White</td>\n",
       "      <td>Male</td>\n",
       "      <td>0</td>\n",
       "      <td>0</td>\n",
       "      <td>40</td>\n",
       "      <td>?</td>\n",
       "      <td>&lt;=50K</td>\n",
       "    </tr>\n",
       "    <tr>\n",
       "      <th>2</th>\n",
       "      <td>37</td>\n",
       "      <td>Private</td>\n",
       "      <td>202662</td>\n",
       "      <td>10th</td>\n",
       "      <td>6</td>\n",
       "      <td>Divorced</td>\n",
       "      <td>Transport-moving</td>\n",
       "      <td>Unmarried</td>\n",
       "      <td>White</td>\n",
       "      <td>Male</td>\n",
       "      <td>0</td>\n",
       "      <td>0</td>\n",
       "      <td>40</td>\n",
       "      <td>United-States</td>\n",
       "      <td>&lt;=50K.</td>\n",
       "    </tr>\n",
       "    <tr>\n",
       "      <th>3</th>\n",
       "      <td>19</td>\n",
       "      <td>Private</td>\n",
       "      <td>97261</td>\n",
       "      <td>HS-grad</td>\n",
       "      <td>9</td>\n",
       "      <td>Never-married</td>\n",
       "      <td>Farming-fishing</td>\n",
       "      <td>Not-in-family</td>\n",
       "      <td>White</td>\n",
       "      <td>Male</td>\n",
       "      <td>0</td>\n",
       "      <td>0</td>\n",
       "      <td>40</td>\n",
       "      <td>United-States</td>\n",
       "      <td>&lt;=50K</td>\n",
       "    </tr>\n",
       "    <tr>\n",
       "      <th>4</th>\n",
       "      <td>50</td>\n",
       "      <td>State-gov</td>\n",
       "      <td>356619</td>\n",
       "      <td>HS-grad</td>\n",
       "      <td>9</td>\n",
       "      <td>Married-civ-spouse</td>\n",
       "      <td>Prof-specialty</td>\n",
       "      <td>Husband</td>\n",
       "      <td>White</td>\n",
       "      <td>Male</td>\n",
       "      <td>0</td>\n",
       "      <td>0</td>\n",
       "      <td>48</td>\n",
       "      <td>United-States</td>\n",
       "      <td>&gt;50K</td>\n",
       "    </tr>\n",
       "    <tr>\n",
       "      <th>5</th>\n",
       "      <td>21</td>\n",
       "      <td>Private</td>\n",
       "      <td>270043</td>\n",
       "      <td>Some-college</td>\n",
       "      <td>10</td>\n",
       "      <td>Never-married</td>\n",
       "      <td>Other-service</td>\n",
       "      <td>Own-child</td>\n",
       "      <td>White</td>\n",
       "      <td>Female</td>\n",
       "      <td>0</td>\n",
       "      <td>0</td>\n",
       "      <td>16</td>\n",
       "      <td>United-States</td>\n",
       "      <td>&lt;=50K</td>\n",
       "    </tr>\n",
       "    <tr>\n",
       "      <th>6</th>\n",
       "      <td>39</td>\n",
       "      <td>Private</td>\n",
       "      <td>236648</td>\n",
       "      <td>Some-college</td>\n",
       "      <td>10</td>\n",
       "      <td>Married-civ-spouse</td>\n",
       "      <td>Machine-op-inspct</td>\n",
       "      <td>Husband</td>\n",
       "      <td>White</td>\n",
       "      <td>Male</td>\n",
       "      <td>0</td>\n",
       "      <td>1848</td>\n",
       "      <td>42</td>\n",
       "      <td>United-States</td>\n",
       "      <td>&gt;50K.</td>\n",
       "    </tr>\n",
       "    <tr>\n",
       "      <th>7</th>\n",
       "      <td>26</td>\n",
       "      <td>Local-gov</td>\n",
       "      <td>30793</td>\n",
       "      <td>Bachelors</td>\n",
       "      <td>13</td>\n",
       "      <td>Married-civ-spouse</td>\n",
       "      <td>Prof-specialty</td>\n",
       "      <td>Wife</td>\n",
       "      <td>White</td>\n",
       "      <td>Female</td>\n",
       "      <td>0</td>\n",
       "      <td>0</td>\n",
       "      <td>55</td>\n",
       "      <td>United-States</td>\n",
       "      <td>&gt;50K</td>\n",
       "    </tr>\n",
       "    <tr>\n",
       "      <th>8</th>\n",
       "      <td>22</td>\n",
       "      <td>Private</td>\n",
       "      <td>188950</td>\n",
       "      <td>Some-college</td>\n",
       "      <td>10</td>\n",
       "      <td>Never-married</td>\n",
       "      <td>Tech-support</td>\n",
       "      <td>Own-child</td>\n",
       "      <td>White</td>\n",
       "      <td>Male</td>\n",
       "      <td>0</td>\n",
       "      <td>0</td>\n",
       "      <td>40</td>\n",
       "      <td>United-States</td>\n",
       "      <td>&lt;=50K</td>\n",
       "    </tr>\n",
       "    <tr>\n",
       "      <th>9</th>\n",
       "      <td>33</td>\n",
       "      <td>Private</td>\n",
       "      <td>241697</td>\n",
       "      <td>Some-college</td>\n",
       "      <td>10</td>\n",
       "      <td>Married-spouse-absent</td>\n",
       "      <td>Sales</td>\n",
       "      <td>Unmarried</td>\n",
       "      <td>Amer-Indian-Eskimo</td>\n",
       "      <td>Male</td>\n",
       "      <td>0</td>\n",
       "      <td>1602</td>\n",
       "      <td>40</td>\n",
       "      <td>United-States</td>\n",
       "      <td>&lt;=50K.</td>\n",
       "    </tr>\n",
       "  </tbody>\n",
       "</table>\n",
       "</div>"
      ],
      "text/plain": [
       "   Age Work_class  Final_Weight     Education  Education_Num  \\\n",
       "0   22    Private        187052       HS-grad              9   \n",
       "1   40    Private        373050          12th              8   \n",
       "2   37    Private        202662          10th              6   \n",
       "3   19    Private         97261       HS-grad              9   \n",
       "4   50  State-gov        356619       HS-grad              9   \n",
       "5   21    Private        270043  Some-college             10   \n",
       "6   39    Private        236648  Some-college             10   \n",
       "7   26  Local-gov         30793     Bachelors             13   \n",
       "8   22    Private        188950  Some-college             10   \n",
       "9   33    Private        241697  Some-college             10   \n",
       "\n",
       "          Marital_Status         Occupation   Relationship  \\\n",
       "0          Never-married       Adm-clerical      Own-child   \n",
       "1     Married-civ-spouse      Other-service        Husband   \n",
       "2               Divorced   Transport-moving      Unmarried   \n",
       "3          Never-married    Farming-fishing  Not-in-family   \n",
       "4     Married-civ-spouse     Prof-specialty        Husband   \n",
       "5          Never-married      Other-service      Own-child   \n",
       "6     Married-civ-spouse  Machine-op-inspct        Husband   \n",
       "7     Married-civ-spouse     Prof-specialty           Wife   \n",
       "8          Never-married       Tech-support      Own-child   \n",
       "9  Married-spouse-absent              Sales      Unmarried   \n",
       "\n",
       "                 Race     Sex  Capital_Gain  Capital_Loss  Hours_per_Week  \\\n",
       "0               White  Female             0             0              40   \n",
       "1               White    Male             0             0              40   \n",
       "2               White    Male             0             0              40   \n",
       "3               White    Male             0             0              40   \n",
       "4               White    Male             0             0              48   \n",
       "5               White  Female             0             0              16   \n",
       "6               White    Male             0          1848              42   \n",
       "7               White  Female             0             0              55   \n",
       "8               White    Male             0             0              40   \n",
       "9  Amer-Indian-Eskimo    Male             0          1602              40   \n",
       "\n",
       "  Native_Country  Income  \n",
       "0  United-States   <=50K  \n",
       "1              ?   <=50K  \n",
       "2  United-States  <=50K.  \n",
       "3  United-States   <=50K  \n",
       "4  United-States    >50K  \n",
       "5  United-States   <=50K  \n",
       "6  United-States   >50K.  \n",
       "7  United-States    >50K  \n",
       "8  United-States   <=50K  \n",
       "9  United-States  <=50K.  "
      ]
     },
     "execution_count": 14,
     "metadata": {},
     "output_type": "execute_result"
    }
   ],
   "source": [
    "census_income_df.head(10)"
   ]
  },
  {
   "cell_type": "code",
   "execution_count": 15,
   "metadata": {},
   "outputs": [],
   "source": [
    "# CSV file saving directory checking\n",
    "directory = os.path.dirname(train_data_file_path)\n",
    "if not os.path.exists(directory):\n",
    "    os.makedirs(directory)"
   ]
  },
  {
   "cell_type": "code",
   "execution_count": 16,
   "metadata": {},
   "outputs": [],
   "source": [
    "# define file paths to save datasets as CSV\n",
    "census_income_df_file_path = os.path.join(directory, 'census_income_datset.csv')"
   ]
  },
  {
   "cell_type": "code",
   "execution_count": 17,
   "metadata": {},
   "outputs": [
    {
     "name": "stdout",
     "output_type": "stream",
     "text": [
      "Census Income Data CSV file saved successfully at: Dataset\\census_income_datset.csv\n"
     ]
    }
   ],
   "source": [
    "# save training and testing DataFrames as CSV\n",
    "try:\n",
    "    census_income_df.to_csv(census_income_df_file_path, index=False)\n",
    "    print(f\"Census Income Data CSV file saved successfully at: {census_income_df_file_path}\")\n",
    "\n",
    "except PermissionError:\n",
    "    print(f\"Error: Permission denied to save files in directory: {directory}\")"
   ]
  },
  {
   "cell_type": "markdown",
   "metadata": {},
   "source": [
    "## Data Cleaning"
   ]
  },
  {
   "cell_type": "code",
   "execution_count": 18,
   "metadata": {},
   "outputs": [
    {
     "data": {
      "text/plain": [
       "(48842, 15)"
      ]
     },
     "execution_count": 18,
     "metadata": {},
     "output_type": "execute_result"
    }
   ],
   "source": [
    "census_income_df.shape"
   ]
  },
  {
   "cell_type": "markdown",
   "metadata": {},
   "source": [
    "### 1. Check null values"
   ]
  },
  {
   "cell_type": "code",
   "execution_count": 19,
   "metadata": {},
   "outputs": [
    {
     "data": {
      "text/plain": [
       "Age               0\n",
       "Work_class        0\n",
       "Final_Weight      0\n",
       "Education         0\n",
       "Education_Num     0\n",
       "Marital_Status    0\n",
       "Occupation        0\n",
       "Relationship      0\n",
       "Race              0\n",
       "Sex               0\n",
       "Capital_Gain      0\n",
       "Capital_Loss      0\n",
       "Hours_per_Week    0\n",
       "Native_Country    0\n",
       "Income            0\n",
       "dtype: int64"
      ]
     },
     "execution_count": 19,
     "metadata": {},
     "output_type": "execute_result"
    }
   ],
   "source": [
    "census_income_df.isnull().sum()"
   ]
  },
  {
   "cell_type": "code",
   "execution_count": 20,
   "metadata": {},
   "outputs": [
    {
     "name": "stdout",
     "output_type": "stream",
     "text": [
      "<class 'pandas.core.frame.DataFrame'>\n",
      "RangeIndex: 48842 entries, 0 to 48841\n",
      "Data columns (total 15 columns):\n",
      " #   Column          Non-Null Count  Dtype \n",
      "---  ------          --------------  ----- \n",
      " 0   Age             48842 non-null  int64 \n",
      " 1   Work_class      48842 non-null  object\n",
      " 2   Final_Weight    48842 non-null  int64 \n",
      " 3   Education       48842 non-null  object\n",
      " 4   Education_Num   48842 non-null  int64 \n",
      " 5   Marital_Status  48842 non-null  object\n",
      " 6   Occupation      48842 non-null  object\n",
      " 7   Relationship    48842 non-null  object\n",
      " 8   Race            48842 non-null  object\n",
      " 9   Sex             48842 non-null  object\n",
      " 10  Capital_Gain    48842 non-null  int64 \n",
      " 11  Capital_Loss    48842 non-null  int64 \n",
      " 12  Hours_per_Week  48842 non-null  int64 \n",
      " 13  Native_Country  48842 non-null  object\n",
      " 14  Income          48842 non-null  object\n",
      "dtypes: int64(6), object(9)\n",
      "memory usage: 5.6+ MB\n"
     ]
    }
   ],
   "source": [
    "census_income_df.info()"
   ]
  },
  {
   "cell_type": "markdown",
   "metadata": {},
   "source": [
    "Currently there are no any null values"
   ]
  },
  {
   "cell_type": "code",
   "execution_count": 21,
   "metadata": {},
   "outputs": [
    {
     "data": {
      "text/plain": [
       "Age                  74\n",
       "Work_class            9\n",
       "Final_Weight      28523\n",
       "Education            16\n",
       "Education_Num        16\n",
       "Marital_Status        7\n",
       "Occupation           15\n",
       "Relationship          6\n",
       "Race                  5\n",
       "Sex                   2\n",
       "Capital_Gain        123\n",
       "Capital_Loss         99\n",
       "Hours_per_Week       96\n",
       "Native_Country       42\n",
       "Income                4\n",
       "dtype: int64"
      ]
     },
     "execution_count": 21,
     "metadata": {},
     "output_type": "execute_result"
    }
   ],
   "source": [
    "# check unique values\n",
    "census_income_df.nunique()"
   ]
  },
  {
   "cell_type": "code",
   "execution_count": 22,
   "metadata": {},
   "outputs": [
    {
     "name": "stdout",
     "output_type": "stream",
     "text": [
      "Age\n",
      "[22 40 37 19 50 21 39 26 33 43 17 52 25 42 35 45 41 72 38 54 27 31 23 90\n",
      " 29 46 20 59 30 36 53 18 24 32 63 28 61 49 76 67 34 47 44 48 65 62 55 60\n",
      " 64 51 57 58 68 78 70 69 56 77 66 71 75 81 79 73 74 83 80 84 82 88 86 85\n",
      " 87 89]\n",
      "\n",
      "\n",
      "Work_class\n",
      "['Private' 'State-gov' 'Local-gov' 'Self-emp-inc' 'Federal-gov' '?'\n",
      " 'Self-emp-not-inc' 'Without-pay' 'Never-worked']\n",
      "\n",
      "\n",
      "Final_Weight\n",
      "[187052 373050 202662 ... 268952 187689 184424]\n",
      "\n",
      "\n",
      "Education\n",
      "['HS-grad' '12th' '10th' 'Some-college' 'Bachelors' '11th' 'Doctorate'\n",
      " 'Masters' 'Assoc-voc' '7th-8th' '9th' 'Prof-school' '5th-6th'\n",
      " 'Assoc-acdm' '1st-4th' 'Preschool']\n",
      "\n",
      "\n",
      "Education_Num\n",
      "[ 9  8  6 10 13  7 16 14 11  4  5 15  3 12  2  1]\n",
      "\n",
      "\n",
      "Marital_Status\n",
      "['Never-married' 'Married-civ-spouse' 'Divorced' 'Married-spouse-absent'\n",
      " 'Separated' 'Widowed' 'Married-AF-spouse']\n",
      "\n",
      "\n",
      "Occupation\n",
      "['Adm-clerical' 'Other-service' 'Transport-moving' 'Farming-fishing'\n",
      " 'Prof-specialty' 'Machine-op-inspct' 'Tech-support' 'Sales'\n",
      " 'Exec-managerial' 'Craft-repair' '?' 'Protective-serv'\n",
      " 'Handlers-cleaners' 'Armed-Forces' 'Priv-house-serv']\n",
      "\n",
      "\n",
      "Relationship\n",
      "['Own-child' 'Husband' 'Unmarried' 'Not-in-family' 'Wife' 'Other-relative']\n",
      "\n",
      "\n",
      "Race\n",
      "['White' 'Amer-Indian-Eskimo' 'Asian-Pac-Islander' 'Black' 'Other']\n",
      "\n",
      "\n",
      "Sex\n",
      "['Female' 'Male']\n",
      "\n",
      "\n",
      "Capital_Gain\n",
      "[    0 14084  6497  7688  6723  4064 15024 10566  3325  2174   401  2329\n",
      "  7298 13550  9386  7430  2597  5013  4787  2414  2829  5178  3103   991\n",
      " 20051  1151 99999 15020 34095  2354  2580  4416  2202  1831  4508  3411\n",
      "  2463  3137  4386  1797   594  4650  5455 14344  4934  2050  3908  2538\n",
      "  3464  2036  6849  2290  1506   114  2653  5556 27828 15831  4101  2964\n",
      " 10520  3781  1471  8614  2176  4931  6514   914  1055  3674  3942  2885\n",
      "  6360  6418  2105 10605 25236  2961  9562  2993  1424  3418  1848  6097\n",
      "  2407  3887  7443  4865  3471  1639  3456  2977 18481  2346  2907  2936\n",
      "  3818  1409  1086  5721  5060  6767  2009  2635  1111  7896  2228  1173\n",
      "  2062 11678 41310  1455  4687  7978  3273 25124  3432  1264  7262  6612\n",
      "  2387  1731 22040]\n",
      "\n",
      "\n",
      "Capital_Loss\n",
      "[   0 1848 1602 1485 1590 1726 2231 2444 1977 1719 2824 1740 1672 1902\n",
      " 1980 1887 1408 3900 1564 2547 1944  974 1504 2392 2042 2179 1573 2246\n",
      " 1340 2051 1579 2001 2377 2129 2002 1974 1762 2258 2174 2559 2415  625\n",
      " 1735 1669 1825 2057 1594 1668 1876 1721 2149 2339 1617  323 2205 1138\n",
      " 4356 1741 1628  880 1844 1870 2472 1816 2754 2282 1411 2352 1092 2238\n",
      " 2603  810 1911 1258 1380  653 1755 1539  155 2206 1651 1648  213 2467\n",
      " 3004 2457 2080 2163 2465 2267  419 3683 1421 2201 1429 3175 1510 3770\n",
      " 2489]\n",
      "\n",
      "\n",
      "Hours_per_Week\n",
      "[40 48 16 42 55 15 44 35 50 45 20 43 60 56  8 25 38 52 36 30 37 10 65 47\n",
      " 99  3 62 41 12 70 90  6 27 11 18 80 74 24 26  1  4 33 53 32 75 61 46  7\n",
      " 54 21 28 17 84 57 22 72 96 39 14  5 34  2 59 78 31 76 13 58  9 23 63 95\n",
      " 98 92 68 19 49 64 66 88 67 29 77 85 73 79 51 94 97 86 82 81 89 69 91 87]\n",
      "\n",
      "\n",
      "Native_Country\n",
      "['United-States' '?' 'Scotland' 'Dominican-Republic' 'Cuba' 'Mexico'\n",
      " 'China' 'Laos' 'France' 'Philippines' 'Hungary' 'Canada' 'El-Salvador'\n",
      " 'Ireland' 'Jamaica' 'South' 'Thailand' 'Poland' 'Columbia' 'Taiwan'\n",
      " 'Japan' 'England' 'India' 'Portugal' 'Honduras' 'Iran' 'Greece' 'Vietnam'\n",
      " 'Puerto-Rico' 'Italy' 'Cambodia' 'Haiti' 'Nicaragua' 'Germany' 'Hong'\n",
      " 'Guatemala' 'Peru' 'Yugoslavia' 'Outlying-US(Guam-USVI-etc)' 'Ecuador'\n",
      " 'Trinadad&Tobago' 'Holand-Netherlands']\n",
      "\n",
      "\n",
      "Income\n",
      "['<=50K' '<=50K.' '>50K' '>50K.']\n",
      "\n",
      "\n"
     ]
    }
   ],
   "source": [
    "# unique values in each columns\n",
    "for column in census_income_df:\n",
    "    print(column)\n",
    "    print(census_income_df[column].unique())\n",
    "    print('\\n')"
   ]
  },
  {
   "cell_type": "markdown",
   "metadata": {},
   "source": [
    "There are missing values represented by '?' in Work_class, Occupation and Native_Country columns.\n",
    "Also have to convert '<=50K.' into '<=50K' and '>50K.' into '>50K' in Income column."
   ]
  },
  {
   "cell_type": "code",
   "execution_count": 23,
   "metadata": {},
   "outputs": [],
   "source": [
    "# replace '?' with NaN\n",
    "#census_income_df.replace(' ?', pd.NA, inplace=True)\n",
    "\n",
    "census_income_df.replace('?', np.nan, inplace=True) "
   ]
  },
  {
   "cell_type": "code",
   "execution_count": 24,
   "metadata": {},
   "outputs": [],
   "source": [
    "# replace values in 'Income' column\n",
    "census_income_df['Income'] = census_income_df['Income'].replace({'<=50K.': '<=50K', '>50K.': '>50K'})"
   ]
  },
  {
   "cell_type": "code",
   "execution_count": 25,
   "metadata": {},
   "outputs": [
    {
     "name": "stdout",
     "output_type": "stream",
     "text": [
      "Age\n",
      "[22 40 37 19 50 21 39 26 33 43 17 52 25 42 35 45 41 72 38 54 27 31 23 90\n",
      " 29 46 20 59 30 36 53 18 24 32 63 28 61 49 76 67 34 47 44 48 65 62 55 60\n",
      " 64 51 57 58 68 78 70 69 56 77 66 71 75 81 79 73 74 83 80 84 82 88 86 85\n",
      " 87 89]\n",
      "\n",
      "\n",
      "Work_class\n",
      "['Private' 'State-gov' 'Local-gov' 'Self-emp-inc' 'Federal-gov' nan\n",
      " 'Self-emp-not-inc' 'Without-pay' 'Never-worked']\n",
      "\n",
      "\n",
      "Final_Weight\n",
      "[187052 373050 202662 ... 268952 187689 184424]\n",
      "\n",
      "\n",
      "Education\n",
      "['HS-grad' '12th' '10th' 'Some-college' 'Bachelors' '11th' 'Doctorate'\n",
      " 'Masters' 'Assoc-voc' '7th-8th' '9th' 'Prof-school' '5th-6th'\n",
      " 'Assoc-acdm' '1st-4th' 'Preschool']\n",
      "\n",
      "\n",
      "Education_Num\n",
      "[ 9  8  6 10 13  7 16 14 11  4  5 15  3 12  2  1]\n",
      "\n",
      "\n",
      "Marital_Status\n",
      "['Never-married' 'Married-civ-spouse' 'Divorced' 'Married-spouse-absent'\n",
      " 'Separated' 'Widowed' 'Married-AF-spouse']\n",
      "\n",
      "\n",
      "Occupation\n",
      "['Adm-clerical' 'Other-service' 'Transport-moving' 'Farming-fishing'\n",
      " 'Prof-specialty' 'Machine-op-inspct' 'Tech-support' 'Sales'\n",
      " 'Exec-managerial' 'Craft-repair' nan 'Protective-serv'\n",
      " 'Handlers-cleaners' 'Armed-Forces' 'Priv-house-serv']\n",
      "\n",
      "\n",
      "Relationship\n",
      "['Own-child' 'Husband' 'Unmarried' 'Not-in-family' 'Wife' 'Other-relative']\n",
      "\n",
      "\n",
      "Race\n",
      "['White' 'Amer-Indian-Eskimo' 'Asian-Pac-Islander' 'Black' 'Other']\n",
      "\n",
      "\n",
      "Sex\n",
      "['Female' 'Male']\n",
      "\n",
      "\n",
      "Capital_Gain\n",
      "[    0 14084  6497  7688  6723  4064 15024 10566  3325  2174   401  2329\n",
      "  7298 13550  9386  7430  2597  5013  4787  2414  2829  5178  3103   991\n",
      " 20051  1151 99999 15020 34095  2354  2580  4416  2202  1831  4508  3411\n",
      "  2463  3137  4386  1797   594  4650  5455 14344  4934  2050  3908  2538\n",
      "  3464  2036  6849  2290  1506   114  2653  5556 27828 15831  4101  2964\n",
      " 10520  3781  1471  8614  2176  4931  6514   914  1055  3674  3942  2885\n",
      "  6360  6418  2105 10605 25236  2961  9562  2993  1424  3418  1848  6097\n",
      "  2407  3887  7443  4865  3471  1639  3456  2977 18481  2346  2907  2936\n",
      "  3818  1409  1086  5721  5060  6767  2009  2635  1111  7896  2228  1173\n",
      "  2062 11678 41310  1455  4687  7978  3273 25124  3432  1264  7262  6612\n",
      "  2387  1731 22040]\n",
      "\n",
      "\n",
      "Capital_Loss\n",
      "[   0 1848 1602 1485 1590 1726 2231 2444 1977 1719 2824 1740 1672 1902\n",
      " 1980 1887 1408 3900 1564 2547 1944  974 1504 2392 2042 2179 1573 2246\n",
      " 1340 2051 1579 2001 2377 2129 2002 1974 1762 2258 2174 2559 2415  625\n",
      " 1735 1669 1825 2057 1594 1668 1876 1721 2149 2339 1617  323 2205 1138\n",
      " 4356 1741 1628  880 1844 1870 2472 1816 2754 2282 1411 2352 1092 2238\n",
      " 2603  810 1911 1258 1380  653 1755 1539  155 2206 1651 1648  213 2467\n",
      " 3004 2457 2080 2163 2465 2267  419 3683 1421 2201 1429 3175 1510 3770\n",
      " 2489]\n",
      "\n",
      "\n",
      "Hours_per_Week\n",
      "[40 48 16 42 55 15 44 35 50 45 20 43 60 56  8 25 38 52 36 30 37 10 65 47\n",
      " 99  3 62 41 12 70 90  6 27 11 18 80 74 24 26  1  4 33 53 32 75 61 46  7\n",
      " 54 21 28 17 84 57 22 72 96 39 14  5 34  2 59 78 31 76 13 58  9 23 63 95\n",
      " 98 92 68 19 49 64 66 88 67 29 77 85 73 79 51 94 97 86 82 81 89 69 91 87]\n",
      "\n",
      "\n",
      "Native_Country\n",
      "['United-States' nan 'Scotland' 'Dominican-Republic' 'Cuba' 'Mexico'\n",
      " 'China' 'Laos' 'France' 'Philippines' 'Hungary' 'Canada' 'El-Salvador'\n",
      " 'Ireland' 'Jamaica' 'South' 'Thailand' 'Poland' 'Columbia' 'Taiwan'\n",
      " 'Japan' 'England' 'India' 'Portugal' 'Honduras' 'Iran' 'Greece' 'Vietnam'\n",
      " 'Puerto-Rico' 'Italy' 'Cambodia' 'Haiti' 'Nicaragua' 'Germany' 'Hong'\n",
      " 'Guatemala' 'Peru' 'Yugoslavia' 'Outlying-US(Guam-USVI-etc)' 'Ecuador'\n",
      " 'Trinadad&Tobago' 'Holand-Netherlands']\n",
      "\n",
      "\n",
      "Income\n",
      "['<=50K' '>50K']\n",
      "\n",
      "\n"
     ]
    }
   ],
   "source": [
    "# check unique values in each columns after modifications\n",
    "for column in census_income_df:\n",
    "    print(column)\n",
    "    print(census_income_df[column].unique())\n",
    "    print('\\n')"
   ]
  },
  {
   "cell_type": "markdown",
   "metadata": {},
   "source": [
    "### 2. Handle null values"
   ]
  },
  {
   "cell_type": "markdown",
   "metadata": {},
   "source": [
    "Reference - https://pandas.pydata.org/docs/user_guide/missing_data.html"
   ]
  },
  {
   "cell_type": "code",
   "execution_count": 26,
   "metadata": {},
   "outputs": [
    {
     "data": {
      "text/plain": [
       "(48842, 15)"
      ]
     },
     "execution_count": 26,
     "metadata": {},
     "output_type": "execute_result"
    }
   ],
   "source": [
    "#check how many records in the dataset \n",
    "census_income_df.shape"
   ]
  },
  {
   "cell_type": "code",
   "execution_count": 27,
   "metadata": {},
   "outputs": [
    {
     "name": "stdout",
     "output_type": "stream",
     "text": [
      "Total number of rows with NaN values: 3620\n"
     ]
    }
   ],
   "source": [
    "# number of NaN values in each row\n",
    "nan_rows_count = census_income_df.isna().sum(axis=1)\n",
    "\n",
    "# total number of rows with NaN values\n",
    "total_nan_rows = (nan_rows_count > 0).sum()\n",
    "\n",
    "print(\"Total number of rows with NaN values:\", total_nan_rows)\n"
   ]
  },
  {
   "cell_type": "markdown",
   "metadata": {},
   "source": [
    "There are so many rows have nan values. So can't drop that rows. Use imputation to handle null values"
   ]
  },
  {
   "cell_type": "code",
   "execution_count": 28,
   "metadata": {},
   "outputs": [
    {
     "name": "stdout",
     "output_type": "stream",
     "text": [
      "<class 'pandas.core.frame.DataFrame'>\n",
      "RangeIndex: 48842 entries, 0 to 48841\n",
      "Data columns (total 15 columns):\n",
      " #   Column          Non-Null Count  Dtype \n",
      "---  ------          --------------  ----- \n",
      " 0   Age             48842 non-null  int64 \n",
      " 1   Work_class      46043 non-null  object\n",
      " 2   Final_Weight    48842 non-null  int64 \n",
      " 3   Education       48842 non-null  object\n",
      " 4   Education_Num   48842 non-null  int64 \n",
      " 5   Marital_Status  48842 non-null  object\n",
      " 6   Occupation      46033 non-null  object\n",
      " 7   Relationship    48842 non-null  object\n",
      " 8   Race            48842 non-null  object\n",
      " 9   Sex             48842 non-null  object\n",
      " 10  Capital_Gain    48842 non-null  int64 \n",
      " 11  Capital_Loss    48842 non-null  int64 \n",
      " 12  Hours_per_Week  48842 non-null  int64 \n",
      " 13  Native_Country  47985 non-null  object\n",
      " 14  Income          48842 non-null  object\n",
      "dtypes: int64(6), object(9)\n",
      "memory usage: 5.6+ MB\n"
     ]
    }
   ],
   "source": [
    "# Non-Null count\n",
    "census_income_df.info()"
   ]
  },
  {
   "cell_type": "markdown",
   "metadata": {},
   "source": [
    "Non value amounts in the dataset.\n",
    "Work_class - 2799 Null values,\n",
    "Occupation - 2809 Null values,\n",
    "Native_Country - 857 Null values"
   ]
  },
  {
   "cell_type": "code",
   "execution_count": 29,
   "metadata": {},
   "outputs": [
    {
     "data": {
      "text/html": [
       "<div>\n",
       "<style scoped>\n",
       "    .dataframe tbody tr th:only-of-type {\n",
       "        vertical-align: middle;\n",
       "    }\n",
       "\n",
       "    .dataframe tbody tr th {\n",
       "        vertical-align: top;\n",
       "    }\n",
       "\n",
       "    .dataframe thead th {\n",
       "        text-align: right;\n",
       "    }\n",
       "</style>\n",
       "<table border=\"1\" class=\"dataframe\">\n",
       "  <thead>\n",
       "    <tr style=\"text-align: right;\">\n",
       "      <th></th>\n",
       "      <th>Age</th>\n",
       "      <th>Work_class</th>\n",
       "      <th>Final_Weight</th>\n",
       "      <th>Education</th>\n",
       "      <th>Education_Num</th>\n",
       "      <th>Marital_Status</th>\n",
       "      <th>Occupation</th>\n",
       "      <th>Relationship</th>\n",
       "      <th>Race</th>\n",
       "      <th>Sex</th>\n",
       "      <th>Capital_Gain</th>\n",
       "      <th>Capital_Loss</th>\n",
       "      <th>Hours_per_Week</th>\n",
       "      <th>Native_Country</th>\n",
       "      <th>Income</th>\n",
       "    </tr>\n",
       "  </thead>\n",
       "  <tbody>\n",
       "    <tr>\n",
       "      <th>0</th>\n",
       "      <td>22</td>\n",
       "      <td>Private</td>\n",
       "      <td>187052</td>\n",
       "      <td>HS-grad</td>\n",
       "      <td>9</td>\n",
       "      <td>Never-married</td>\n",
       "      <td>Adm-clerical</td>\n",
       "      <td>Own-child</td>\n",
       "      <td>White</td>\n",
       "      <td>Female</td>\n",
       "      <td>0</td>\n",
       "      <td>0</td>\n",
       "      <td>40</td>\n",
       "      <td>United-States</td>\n",
       "      <td>&lt;=50K</td>\n",
       "    </tr>\n",
       "    <tr>\n",
       "      <th>1</th>\n",
       "      <td>40</td>\n",
       "      <td>Private</td>\n",
       "      <td>373050</td>\n",
       "      <td>12th</td>\n",
       "      <td>8</td>\n",
       "      <td>Married-civ-spouse</td>\n",
       "      <td>Other-service</td>\n",
       "      <td>Husband</td>\n",
       "      <td>White</td>\n",
       "      <td>Male</td>\n",
       "      <td>0</td>\n",
       "      <td>0</td>\n",
       "      <td>40</td>\n",
       "      <td>NaN</td>\n",
       "      <td>&lt;=50K</td>\n",
       "    </tr>\n",
       "    <tr>\n",
       "      <th>2</th>\n",
       "      <td>37</td>\n",
       "      <td>Private</td>\n",
       "      <td>202662</td>\n",
       "      <td>10th</td>\n",
       "      <td>6</td>\n",
       "      <td>Divorced</td>\n",
       "      <td>Transport-moving</td>\n",
       "      <td>Unmarried</td>\n",
       "      <td>White</td>\n",
       "      <td>Male</td>\n",
       "      <td>0</td>\n",
       "      <td>0</td>\n",
       "      <td>40</td>\n",
       "      <td>United-States</td>\n",
       "      <td>&lt;=50K</td>\n",
       "    </tr>\n",
       "    <tr>\n",
       "      <th>3</th>\n",
       "      <td>19</td>\n",
       "      <td>Private</td>\n",
       "      <td>97261</td>\n",
       "      <td>HS-grad</td>\n",
       "      <td>9</td>\n",
       "      <td>Never-married</td>\n",
       "      <td>Farming-fishing</td>\n",
       "      <td>Not-in-family</td>\n",
       "      <td>White</td>\n",
       "      <td>Male</td>\n",
       "      <td>0</td>\n",
       "      <td>0</td>\n",
       "      <td>40</td>\n",
       "      <td>United-States</td>\n",
       "      <td>&lt;=50K</td>\n",
       "    </tr>\n",
       "    <tr>\n",
       "      <th>4</th>\n",
       "      <td>50</td>\n",
       "      <td>State-gov</td>\n",
       "      <td>356619</td>\n",
       "      <td>HS-grad</td>\n",
       "      <td>9</td>\n",
       "      <td>Married-civ-spouse</td>\n",
       "      <td>Prof-specialty</td>\n",
       "      <td>Husband</td>\n",
       "      <td>White</td>\n",
       "      <td>Male</td>\n",
       "      <td>0</td>\n",
       "      <td>0</td>\n",
       "      <td>48</td>\n",
       "      <td>United-States</td>\n",
       "      <td>&gt;50K</td>\n",
       "    </tr>\n",
       "  </tbody>\n",
       "</table>\n",
       "</div>"
      ],
      "text/plain": [
       "   Age Work_class  Final_Weight Education  Education_Num      Marital_Status  \\\n",
       "0   22    Private        187052   HS-grad              9       Never-married   \n",
       "1   40    Private        373050      12th              8  Married-civ-spouse   \n",
       "2   37    Private        202662      10th              6            Divorced   \n",
       "3   19    Private         97261   HS-grad              9       Never-married   \n",
       "4   50  State-gov        356619   HS-grad              9  Married-civ-spouse   \n",
       "\n",
       "         Occupation   Relationship   Race     Sex  Capital_Gain  Capital_Loss  \\\n",
       "0      Adm-clerical      Own-child  White  Female             0             0   \n",
       "1     Other-service        Husband  White    Male             0             0   \n",
       "2  Transport-moving      Unmarried  White    Male             0             0   \n",
       "3   Farming-fishing  Not-in-family  White    Male             0             0   \n",
       "4    Prof-specialty        Husband  White    Male             0             0   \n",
       "\n",
       "   Hours_per_Week Native_Country Income  \n",
       "0              40  United-States  <=50K  \n",
       "1              40            NaN  <=50K  \n",
       "2              40  United-States  <=50K  \n",
       "3              40  United-States  <=50K  \n",
       "4              48  United-States   >50K  "
      ]
     },
     "execution_count": 29,
     "metadata": {},
     "output_type": "execute_result"
    }
   ],
   "source": [
    "census_income_df.head() "
   ]
  },
  {
   "cell_type": "markdown",
   "metadata": {},
   "source": [
    "### Handle Work class column Null values"
   ]
  },
  {
   "cell_type": "code",
   "execution_count": 30,
   "metadata": {},
   "outputs": [
    {
     "name": "stdout",
     "output_type": "stream",
     "text": [
      "['<=50K' '>50K']\n"
     ]
    }
   ],
   "source": [
    "# classes of Income\n",
    "print(census_income_df['Income'].unique())"
   ]
  },
  {
   "cell_type": "markdown",
   "metadata": {},
   "source": [
    "Basically we should consider Income. So fill missing values in the 'Work_class' column based on the Mode for each income class (<=50K or >50K)."
   ]
  },
  {
   "cell_type": "markdown",
   "metadata": {},
   "source": [
    "Split dataset based on Income. Can split into 2 classes."
   ]
  },
  {
   "cell_type": "code",
   "execution_count": 31,
   "metadata": {},
   "outputs": [],
   "source": [
    "income_less_50k = census_income_df[census_income_df['Income'] == '<=50K']\n",
    "income_greater_50k = census_income_df[census_income_df['Income'] == '>50K']"
   ]
  },
  {
   "cell_type": "code",
   "execution_count": 32,
   "metadata": {},
   "outputs": [
    {
     "data": {
      "text/html": [
       "<div>\n",
       "<style scoped>\n",
       "    .dataframe tbody tr th:only-of-type {\n",
       "        vertical-align: middle;\n",
       "    }\n",
       "\n",
       "    .dataframe tbody tr th {\n",
       "        vertical-align: top;\n",
       "    }\n",
       "\n",
       "    .dataframe thead th {\n",
       "        text-align: right;\n",
       "    }\n",
       "</style>\n",
       "<table border=\"1\" class=\"dataframe\">\n",
       "  <thead>\n",
       "    <tr style=\"text-align: right;\">\n",
       "      <th></th>\n",
       "      <th>Age</th>\n",
       "      <th>Work_class</th>\n",
       "      <th>Final_Weight</th>\n",
       "      <th>Education</th>\n",
       "      <th>Education_Num</th>\n",
       "      <th>Marital_Status</th>\n",
       "      <th>Occupation</th>\n",
       "      <th>Relationship</th>\n",
       "      <th>Race</th>\n",
       "      <th>Sex</th>\n",
       "      <th>Capital_Gain</th>\n",
       "      <th>Capital_Loss</th>\n",
       "      <th>Hours_per_Week</th>\n",
       "      <th>Native_Country</th>\n",
       "      <th>Income</th>\n",
       "    </tr>\n",
       "  </thead>\n",
       "  <tbody>\n",
       "    <tr>\n",
       "      <th>0</th>\n",
       "      <td>22</td>\n",
       "      <td>Private</td>\n",
       "      <td>187052</td>\n",
       "      <td>HS-grad</td>\n",
       "      <td>9</td>\n",
       "      <td>Never-married</td>\n",
       "      <td>Adm-clerical</td>\n",
       "      <td>Own-child</td>\n",
       "      <td>White</td>\n",
       "      <td>Female</td>\n",
       "      <td>0</td>\n",
       "      <td>0</td>\n",
       "      <td>40</td>\n",
       "      <td>United-States</td>\n",
       "      <td>&lt;=50K</td>\n",
       "    </tr>\n",
       "    <tr>\n",
       "      <th>1</th>\n",
       "      <td>40</td>\n",
       "      <td>Private</td>\n",
       "      <td>373050</td>\n",
       "      <td>12th</td>\n",
       "      <td>8</td>\n",
       "      <td>Married-civ-spouse</td>\n",
       "      <td>Other-service</td>\n",
       "      <td>Husband</td>\n",
       "      <td>White</td>\n",
       "      <td>Male</td>\n",
       "      <td>0</td>\n",
       "      <td>0</td>\n",
       "      <td>40</td>\n",
       "      <td>NaN</td>\n",
       "      <td>&lt;=50K</td>\n",
       "    </tr>\n",
       "    <tr>\n",
       "      <th>2</th>\n",
       "      <td>37</td>\n",
       "      <td>Private</td>\n",
       "      <td>202662</td>\n",
       "      <td>10th</td>\n",
       "      <td>6</td>\n",
       "      <td>Divorced</td>\n",
       "      <td>Transport-moving</td>\n",
       "      <td>Unmarried</td>\n",
       "      <td>White</td>\n",
       "      <td>Male</td>\n",
       "      <td>0</td>\n",
       "      <td>0</td>\n",
       "      <td>40</td>\n",
       "      <td>United-States</td>\n",
       "      <td>&lt;=50K</td>\n",
       "    </tr>\n",
       "    <tr>\n",
       "      <th>3</th>\n",
       "      <td>19</td>\n",
       "      <td>Private</td>\n",
       "      <td>97261</td>\n",
       "      <td>HS-grad</td>\n",
       "      <td>9</td>\n",
       "      <td>Never-married</td>\n",
       "      <td>Farming-fishing</td>\n",
       "      <td>Not-in-family</td>\n",
       "      <td>White</td>\n",
       "      <td>Male</td>\n",
       "      <td>0</td>\n",
       "      <td>0</td>\n",
       "      <td>40</td>\n",
       "      <td>United-States</td>\n",
       "      <td>&lt;=50K</td>\n",
       "    </tr>\n",
       "    <tr>\n",
       "      <th>5</th>\n",
       "      <td>21</td>\n",
       "      <td>Private</td>\n",
       "      <td>270043</td>\n",
       "      <td>Some-college</td>\n",
       "      <td>10</td>\n",
       "      <td>Never-married</td>\n",
       "      <td>Other-service</td>\n",
       "      <td>Own-child</td>\n",
       "      <td>White</td>\n",
       "      <td>Female</td>\n",
       "      <td>0</td>\n",
       "      <td>0</td>\n",
       "      <td>16</td>\n",
       "      <td>United-States</td>\n",
       "      <td>&lt;=50K</td>\n",
       "    </tr>\n",
       "  </tbody>\n",
       "</table>\n",
       "</div>"
      ],
      "text/plain": [
       "   Age Work_class  Final_Weight     Education  Education_Num  \\\n",
       "0   22    Private        187052       HS-grad              9   \n",
       "1   40    Private        373050          12th              8   \n",
       "2   37    Private        202662          10th              6   \n",
       "3   19    Private         97261       HS-grad              9   \n",
       "5   21    Private        270043  Some-college             10   \n",
       "\n",
       "       Marital_Status        Occupation   Relationship   Race     Sex  \\\n",
       "0       Never-married      Adm-clerical      Own-child  White  Female   \n",
       "1  Married-civ-spouse     Other-service        Husband  White    Male   \n",
       "2            Divorced  Transport-moving      Unmarried  White    Male   \n",
       "3       Never-married   Farming-fishing  Not-in-family  White    Male   \n",
       "5       Never-married     Other-service      Own-child  White  Female   \n",
       "\n",
       "   Capital_Gain  Capital_Loss  Hours_per_Week Native_Country Income  \n",
       "0             0             0              40  United-States  <=50K  \n",
       "1             0             0              40            NaN  <=50K  \n",
       "2             0             0              40  United-States  <=50K  \n",
       "3             0             0              40  United-States  <=50K  \n",
       "5             0             0              16  United-States  <=50K  "
      ]
     },
     "execution_count": 32,
     "metadata": {},
     "output_type": "execute_result"
    }
   ],
   "source": [
    "income_less_50k.head()"
   ]
  },
  {
   "cell_type": "code",
   "execution_count": 33,
   "metadata": {},
   "outputs": [
    {
     "data": {
      "text/html": [
       "<div>\n",
       "<style scoped>\n",
       "    .dataframe tbody tr th:only-of-type {\n",
       "        vertical-align: middle;\n",
       "    }\n",
       "\n",
       "    .dataframe tbody tr th {\n",
       "        vertical-align: top;\n",
       "    }\n",
       "\n",
       "    .dataframe thead th {\n",
       "        text-align: right;\n",
       "    }\n",
       "</style>\n",
       "<table border=\"1\" class=\"dataframe\">\n",
       "  <thead>\n",
       "    <tr style=\"text-align: right;\">\n",
       "      <th></th>\n",
       "      <th>Age</th>\n",
       "      <th>Work_class</th>\n",
       "      <th>Final_Weight</th>\n",
       "      <th>Education</th>\n",
       "      <th>Education_Num</th>\n",
       "      <th>Marital_Status</th>\n",
       "      <th>Occupation</th>\n",
       "      <th>Relationship</th>\n",
       "      <th>Race</th>\n",
       "      <th>Sex</th>\n",
       "      <th>Capital_Gain</th>\n",
       "      <th>Capital_Loss</th>\n",
       "      <th>Hours_per_Week</th>\n",
       "      <th>Native_Country</th>\n",
       "      <th>Income</th>\n",
       "    </tr>\n",
       "  </thead>\n",
       "  <tbody>\n",
       "    <tr>\n",
       "      <th>4</th>\n",
       "      <td>50</td>\n",
       "      <td>State-gov</td>\n",
       "      <td>356619</td>\n",
       "      <td>HS-grad</td>\n",
       "      <td>9</td>\n",
       "      <td>Married-civ-spouse</td>\n",
       "      <td>Prof-specialty</td>\n",
       "      <td>Husband</td>\n",
       "      <td>White</td>\n",
       "      <td>Male</td>\n",
       "      <td>0</td>\n",
       "      <td>0</td>\n",
       "      <td>48</td>\n",
       "      <td>United-States</td>\n",
       "      <td>&gt;50K</td>\n",
       "    </tr>\n",
       "    <tr>\n",
       "      <th>6</th>\n",
       "      <td>39</td>\n",
       "      <td>Private</td>\n",
       "      <td>236648</td>\n",
       "      <td>Some-college</td>\n",
       "      <td>10</td>\n",
       "      <td>Married-civ-spouse</td>\n",
       "      <td>Machine-op-inspct</td>\n",
       "      <td>Husband</td>\n",
       "      <td>White</td>\n",
       "      <td>Male</td>\n",
       "      <td>0</td>\n",
       "      <td>1848</td>\n",
       "      <td>42</td>\n",
       "      <td>United-States</td>\n",
       "      <td>&gt;50K</td>\n",
       "    </tr>\n",
       "    <tr>\n",
       "      <th>7</th>\n",
       "      <td>26</td>\n",
       "      <td>Local-gov</td>\n",
       "      <td>30793</td>\n",
       "      <td>Bachelors</td>\n",
       "      <td>13</td>\n",
       "      <td>Married-civ-spouse</td>\n",
       "      <td>Prof-specialty</td>\n",
       "      <td>Wife</td>\n",
       "      <td>White</td>\n",
       "      <td>Female</td>\n",
       "      <td>0</td>\n",
       "      <td>0</td>\n",
       "      <td>55</td>\n",
       "      <td>United-States</td>\n",
       "      <td>&gt;50K</td>\n",
       "    </tr>\n",
       "    <tr>\n",
       "      <th>16</th>\n",
       "      <td>37</td>\n",
       "      <td>Self-emp-inc</td>\n",
       "      <td>26698</td>\n",
       "      <td>Some-college</td>\n",
       "      <td>10</td>\n",
       "      <td>Married-civ-spouse</td>\n",
       "      <td>Sales</td>\n",
       "      <td>Husband</td>\n",
       "      <td>White</td>\n",
       "      <td>Male</td>\n",
       "      <td>0</td>\n",
       "      <td>1485</td>\n",
       "      <td>44</td>\n",
       "      <td>United-States</td>\n",
       "      <td>&gt;50K</td>\n",
       "    </tr>\n",
       "    <tr>\n",
       "      <th>17</th>\n",
       "      <td>52</td>\n",
       "      <td>Federal-gov</td>\n",
       "      <td>297906</td>\n",
       "      <td>Doctorate</td>\n",
       "      <td>16</td>\n",
       "      <td>Married-civ-spouse</td>\n",
       "      <td>Prof-specialty</td>\n",
       "      <td>Husband</td>\n",
       "      <td>Asian-Pac-Islander</td>\n",
       "      <td>Male</td>\n",
       "      <td>0</td>\n",
       "      <td>0</td>\n",
       "      <td>40</td>\n",
       "      <td>NaN</td>\n",
       "      <td>&gt;50K</td>\n",
       "    </tr>\n",
       "  </tbody>\n",
       "</table>\n",
       "</div>"
      ],
      "text/plain": [
       "    Age    Work_class  Final_Weight     Education  Education_Num  \\\n",
       "4    50     State-gov        356619       HS-grad              9   \n",
       "6    39       Private        236648  Some-college             10   \n",
       "7    26     Local-gov         30793     Bachelors             13   \n",
       "16   37  Self-emp-inc         26698  Some-college             10   \n",
       "17   52   Federal-gov        297906     Doctorate             16   \n",
       "\n",
       "        Marital_Status         Occupation Relationship                Race  \\\n",
       "4   Married-civ-spouse     Prof-specialty      Husband               White   \n",
       "6   Married-civ-spouse  Machine-op-inspct      Husband               White   \n",
       "7   Married-civ-spouse     Prof-specialty         Wife               White   \n",
       "16  Married-civ-spouse              Sales      Husband               White   \n",
       "17  Married-civ-spouse     Prof-specialty      Husband  Asian-Pac-Islander   \n",
       "\n",
       "       Sex  Capital_Gain  Capital_Loss  Hours_per_Week Native_Country Income  \n",
       "4     Male             0             0              48  United-States   >50K  \n",
       "6     Male             0          1848              42  United-States   >50K  \n",
       "7   Female             0             0              55  United-States   >50K  \n",
       "16    Male             0          1485              44  United-States   >50K  \n",
       "17    Male             0             0              40            NaN   >50K  "
      ]
     },
     "execution_count": 33,
     "metadata": {},
     "output_type": "execute_result"
    }
   ],
   "source": [
    "income_greater_50k.head()"
   ]
  },
  {
   "cell_type": "code",
   "execution_count": 34,
   "metadata": {},
   "outputs": [],
   "source": [
    "# Filter the 'Work Class' column based on income\n",
    "\n",
    "under50K_workClass = income_less_50k['Work_class'].value_counts()\n",
    "over50K_workClass = income_greater_50k['Work_class'].value_counts()"
   ]
  },
  {
   "cell_type": "code",
   "execution_count": 35,
   "metadata": {},
   "outputs": [
    {
     "data": {
      "text/plain": [
       "Work_class\n",
       "Private             26519\n",
       "Self-emp-not-inc     2785\n",
       "Local-gov            2209\n",
       "State-gov            1451\n",
       "Federal-gov           871\n",
       "Self-emp-inc          757\n",
       "Without-pay            19\n",
       "Never-worked           10\n",
       "Name: count, dtype: int64"
      ]
     },
     "execution_count": 35,
     "metadata": {},
     "output_type": "execute_result"
    }
   ],
   "source": [
    "under50K_workClass"
   ]
  },
  {
   "cell_type": "code",
   "execution_count": 36,
   "metadata": {},
   "outputs": [
    {
     "data": {
      "text/plain": [
       "Work_class\n",
       "Private             7387\n",
       "Self-emp-not-inc    1077\n",
       "Self-emp-inc         938\n",
       "Local-gov            927\n",
       "Federal-gov          561\n",
       "State-gov            530\n",
       "Without-pay            2\n",
       "Name: count, dtype: int64"
      ]
     },
     "execution_count": 36,
     "metadata": {},
     "output_type": "execute_result"
    }
   ],
   "source": [
    "over50K_workClass"
   ]
  },
  {
   "cell_type": "markdown",
   "metadata": {},
   "source": [
    "Plot Work classes according to the Income classes"
   ]
  },
  {
   "cell_type": "code",
   "execution_count": 37,
   "metadata": {},
   "outputs": [
    {
     "data": {
      "image/png": "[encoded data removed]",
      "text/plain": [
       "<Figure size 2500x500 with 2 Axes>"
      ]
     },
     "metadata": {},
     "output_type": "display_data"
    }
   ],
   "source": [
    "#colors\n",
    "under50K_color = ['#EB5723', '#FBB619']\n",
    "over50K_color = ['#7FBA41', '#30A6DE']\n",
    "\n",
    "# Plotting them side by side\n",
    "fig, (ax1, ax2) = plt.subplots(1,2, figsize = (25,5))\n",
    "\n",
    "ax1.bar(under50K_workClass.index,under50K_workClass.values,color=under50K_color)\n",
    "ax1.set_xlabel(\"Work Classes\")\n",
    "ax1.set_ylabel(\"Frequency of Work Classes\")\n",
    "ax1.set_title(\"Under 50K Work Classes (<=50K)\")\n",
    "ax1.tick_params(axis='x', rotation=45) # Rotate x-axis labels for better readability\n",
    "\n",
    "ax2.bar(over50K_workClass.index,over50K_workClass.values,color=over50K_color)\n",
    "ax2.set_xlabel(\"Work Classes\")\n",
    "ax2.set_ylabel(\"Frequency of Work Classes\")\n",
    "ax2.set_title(\"Over 50K Work Classes (>50K)\")\n",
    "ax2.tick_params(axis='x', rotation=45) "
   ]
  },
  {
   "cell_type": "code",
   "execution_count": 38,
   "metadata": {},
   "outputs": [
    {
     "name": "stdout",
     "output_type": "stream",
     "text": [
      "Mode of Less than 50k income: Private\n",
      "Mode of Greater than 50k income: Private\n"
     ]
    }
   ],
   "source": [
    "# find Work class mode for each income class\n",
    "mode_less_50k_workclass = income_less_50k['Work_class'].mode()[0]\n",
    "mode_greater_50k_workclass = income_greater_50k['Work_class'].mode()[0]\n",
    "print('Mode of Less than 50k income:', mode_less_50k_workclass )\n",
    "print('Mode of Greater than 50k income:', mode_greater_50k_workclass)"
   ]
  },
  {
   "cell_type": "markdown",
   "metadata": {},
   "source": [
    "So the mode of Work classes for the both Income classes is 'Private'.Now we can fill null values of 'Work_class' column with 'Private'."
   ]
  },
  {
   "cell_type": "code",
   "execution_count": 39,
   "metadata": {},
   "outputs": [],
   "source": [
    "# Fill missing values based on income class\n",
    "census_income_df.loc[(census_income_df['Income'] == '<=50K') & (census_income_df['Work_class'].isnull()), 'Work_class'] = mode_less_50k_workclass\n",
    "census_income_df.loc[(census_income_df['Income'] == '>50K') & (census_income_df['Work_class'].isnull()), 'Work_class'] = mode_greater_50k_workclass"
   ]
  },
  {
   "cell_type": "markdown",
   "metadata": {},
   "source": [
    "Check if 'Work_class' column is ok now."
   ]
  },
  {
   "cell_type": "code",
   "execution_count": 40,
   "metadata": {},
   "outputs": [
    {
     "name": "stdout",
     "output_type": "stream",
     "text": [
      "['Private' 'State-gov' 'Local-gov' 'Self-emp-inc' 'Federal-gov'\n",
      " 'Self-emp-not-inc' 'Without-pay' 'Never-worked']\n"
     ]
    }
   ],
   "source": [
    "#check unique values of Work_class column\n",
    "print(census_income_df['Work_class'].unique())"
   ]
  },
  {
   "cell_type": "code",
   "execution_count": 41,
   "metadata": {},
   "outputs": [
    {
     "name": "stdout",
     "output_type": "stream",
     "text": [
      "<class 'pandas.core.frame.DataFrame'>\n",
      "RangeIndex: 48842 entries, 0 to 48841\n",
      "Data columns (total 15 columns):\n",
      " #   Column          Non-Null Count  Dtype \n",
      "---  ------          --------------  ----- \n",
      " 0   Age             48842 non-null  int64 \n",
      " 1   Work_class      48842 non-null  object\n",
      " 2   Final_Weight    48842 non-null  int64 \n",
      " 3   Education       48842 non-null  object\n",
      " 4   Education_Num   48842 non-null  int64 \n",
      " 5   Marital_Status  48842 non-null  object\n",
      " 6   Occupation      46033 non-null  object\n",
      " 7   Relationship    48842 non-null  object\n",
      " 8   Race            48842 non-null  object\n",
      " 9   Sex             48842 non-null  object\n",
      " 10  Capital_Gain    48842 non-null  int64 \n",
      " 11  Capital_Loss    48842 non-null  int64 \n",
      " 12  Hours_per_Week  48842 non-null  int64 \n",
      " 13  Native_Country  47985 non-null  object\n",
      " 14  Income          48842 non-null  object\n",
      "dtypes: int64(6), object(9)\n",
      "memory usage: 5.6+ MB\n"
     ]
    }
   ],
   "source": [
    "census_income_df.info()"
   ]
  },
  {
   "cell_type": "markdown",
   "metadata": {},
   "source": [
    "'Work class' column doesn't have any null values"
   ]
  },
  {
   "cell_type": "markdown",
   "metadata": {},
   "source": [
    "### Handle Occupation column Null values"
   ]
  },
  {
   "cell_type": "code",
   "execution_count": 42,
   "metadata": {},
   "outputs": [],
   "source": [
    "# Filter the 'Occupation' column based on income\n",
    "\n",
    "under50K_occupation = income_less_50k['Occupation'].value_counts()\n",
    "over50K_occupation = income_greater_50k['Occupation'].value_counts()"
   ]
  },
  {
   "cell_type": "code",
   "execution_count": 43,
   "metadata": {},
   "outputs": [
    {
     "data": {
      "text/plain": [
       "Occupation\n",
       "Adm-clerical         4843\n",
       "Craft-repair         4729\n",
       "Other-service        4719\n",
       "Sales                4029\n",
       "Prof-specialty       3388\n",
       "Exec-managerial      3178\n",
       "Machine-op-inspct    2650\n",
       "Handlers-cleaners    1934\n",
       "Transport-moving     1874\n",
       "Farming-fishing      1317\n",
       "Tech-support         1026\n",
       "Protective-serv       675\n",
       "Priv-house-serv       239\n",
       "Armed-Forces           10\n",
       "Name: count, dtype: int64"
      ]
     },
     "execution_count": 43,
     "metadata": {},
     "output_type": "execute_result"
    }
   ],
   "source": [
    "under50K_occupation"
   ]
  },
  {
   "cell_type": "code",
   "execution_count": 44,
   "metadata": {},
   "outputs": [
    {
     "data": {
      "text/plain": [
       "Occupation\n",
       "Exec-managerial      2908\n",
       "Prof-specialty       2784\n",
       "Sales                1475\n",
       "Craft-repair         1383\n",
       "Adm-clerical          768\n",
       "Transport-moving      481\n",
       "Tech-support          420\n",
       "Machine-op-inspct     372\n",
       "Protective-serv       308\n",
       "Other-service         204\n",
       "Farming-fishing       173\n",
       "Handlers-cleaners     138\n",
       "Armed-Forces            5\n",
       "Priv-house-serv         3\n",
       "Name: count, dtype: int64"
      ]
     },
     "execution_count": 44,
     "metadata": {},
     "output_type": "execute_result"
    }
   ],
   "source": [
    "over50K_occupation"
   ]
  },
  {
   "cell_type": "markdown",
   "metadata": {},
   "source": [
    "Plot Occupations according to the Income classes"
   ]
  },
  {
   "cell_type": "code",
   "execution_count": 45,
   "metadata": {},
   "outputs": [
    {
     "data": {
      "image/png": "[encoded data removed]",
      "text/plain": [
       "<Figure size 3000x500 with 2 Axes>"
      ]
     },
     "metadata": {},
     "output_type": "display_data"
    }
   ],
   "source": [
    "#colors\n",
    "under50K_color = ['#EB5723', '#FBB619']\n",
    "over50K_color = ['#7FBA41', '#30A6DE']\n",
    "\n",
    "# Plotting them side by side\n",
    "fig, (ax1, ax2) = plt.subplots(1,2, figsize = (30,5))\n",
    "\n",
    "ax1.bar(under50K_occupation.index,under50K_occupation.values,color=under50K_color)\n",
    "ax1.set_xlabel(\"Occupations\")\n",
    "ax1.set_ylabel(\"Frequency of Occupations\")\n",
    "ax1.set_title(\"Under 50K Occupations (<=50K)\")\n",
    "ax1.tick_params(axis='x', rotation=45) # Rotate x-axis labels for better readability\n",
    "\n",
    "\n",
    "ax2.bar(over50K_occupation.index,over50K_occupation.values,color=over50K_color)\n",
    "ax2.set_xlabel(\"Occupations\")\n",
    "ax2.set_ylabel(\"Frequency of Occupations\")\n",
    "ax2.set_title(\"Over 50K Work Occupations (>50K)\")\n",
    "ax2.tick_params(axis='x', rotation=45)"
   ]
  },
  {
   "cell_type": "code",
   "execution_count": 46,
   "metadata": {},
   "outputs": [
    {
     "name": "stdout",
     "output_type": "stream",
     "text": [
      "Mode of Less than 50k income: Adm-clerical\n",
      "Mode of Greater than 50k income: Exec-managerial\n"
     ]
    }
   ],
   "source": [
    "# find Occupation mode for each income class\n",
    "mode_less_50k_occupation = income_less_50k['Occupation'].mode()[0]\n",
    "mode_greater_50k_occupation = income_greater_50k['Occupation'].mode()[0]\n",
    "print('Mode of Less than 50k income:', mode_less_50k_occupation)\n",
    "print('Mode of Greater than 50k income:', mode_greater_50k_occupation)"
   ]
  },
  {
   "cell_type": "markdown",
   "metadata": {},
   "source": [
    "So the mode of Occupations for '<=50K' Income classes is 'Adm-clerical'.And the mode of Occupations for '>50K' Income classes is 'Exec-managerial'.Now we can fill null values of 'Work_class' column."
   ]
  },
  {
   "cell_type": "code",
   "execution_count": 47,
   "metadata": {},
   "outputs": [],
   "source": [
    "# Fill missing values based on income class\n",
    "census_income_df.loc[(census_income_df['Income'] == '<=50K') & (census_income_df['Occupation'].isnull()), 'Occupation'] = mode_less_50k_occupation\n",
    "census_income_df.loc[(census_income_df['Income'] == '>50K') & (census_income_df['Occupation'].isnull()), 'Occupation'] = mode_greater_50k_occupation"
   ]
  },
  {
   "cell_type": "markdown",
   "metadata": {},
   "source": [
    "Check if 'Occupation' column is ok now."
   ]
  },
  {
   "cell_type": "code",
   "execution_count": 48,
   "metadata": {},
   "outputs": [
    {
     "name": "stdout",
     "output_type": "stream",
     "text": [
      "['Adm-clerical' 'Other-service' 'Transport-moving' 'Farming-fishing'\n",
      " 'Prof-specialty' 'Machine-op-inspct' 'Tech-support' 'Sales'\n",
      " 'Exec-managerial' 'Craft-repair' 'Protective-serv' 'Handlers-cleaners'\n",
      " 'Armed-Forces' 'Priv-house-serv']\n"
     ]
    }
   ],
   "source": [
    "#check unique values of Work_class column\n",
    "print(census_income_df['Occupation'].unique())"
   ]
  },
  {
   "cell_type": "code",
   "execution_count": 49,
   "metadata": {},
   "outputs": [
    {
     "name": "stdout",
     "output_type": "stream",
     "text": [
      "<class 'pandas.core.frame.DataFrame'>\n",
      "RangeIndex: 48842 entries, 0 to 48841\n",
      "Data columns (total 15 columns):\n",
      " #   Column          Non-Null Count  Dtype \n",
      "---  ------          --------------  ----- \n",
      " 0   Age             48842 non-null  int64 \n",
      " 1   Work_class      48842 non-null  object\n",
      " 2   Final_Weight    48842 non-null  int64 \n",
      " 3   Education       48842 non-null  object\n",
      " 4   Education_Num   48842 non-null  int64 \n",
      " 5   Marital_Status  48842 non-null  object\n",
      " 6   Occupation      48842 non-null  object\n",
      " 7   Relationship    48842 non-null  object\n",
      " 8   Race            48842 non-null  object\n",
      " 9   Sex             48842 non-null  object\n",
      " 10  Capital_Gain    48842 non-null  int64 \n",
      " 11  Capital_Loss    48842 non-null  int64 \n",
      " 12  Hours_per_Week  48842 non-null  int64 \n",
      " 13  Native_Country  47985 non-null  object\n",
      " 14  Income          48842 non-null  object\n",
      "dtypes: int64(6), object(9)\n",
      "memory usage: 5.6+ MB\n"
     ]
    }
   ],
   "source": [
    "census_income_df.info()"
   ]
  },
  {
   "cell_type": "markdown",
   "metadata": {},
   "source": [
    "'Occupation' column doesn't have any null values"
   ]
  },
  {
   "cell_type": "markdown",
   "metadata": {},
   "source": [
    "### Handle Native Country column Null values"
   ]
  },
  {
   "cell_type": "code",
   "execution_count": 50,
   "metadata": {},
   "outputs": [],
   "source": [
    "# Filter the 'Native country' column based on income\n",
    "\n",
    "under50K_nativeCountry = income_less_50k['Native_Country'].value_counts()\n",
    "over50K_nativeCountry = income_greater_50k['Native_Country'].value_counts()"
   ]
  },
  {
   "cell_type": "code",
   "execution_count": 51,
   "metadata": {},
   "outputs": [
    {
     "data": {
      "text/plain": [
       "Native_Country\n",
       "United-States                 33138\n",
       "Mexico                          904\n",
       "Philippines                     210\n",
       "Puerto-Rico                     164\n",
       "Germany                         148\n",
       "El-Salvador                     144\n",
       "Canada                          119\n",
       "Cuba                            104\n",
       "Dominican-Republic               98\n",
       "South                            95\n",
       "Jamaica                          91\n",
       "India                            89\n",
       "China                            86\n",
       "Guatemala                        85\n",
       "Columbia                         81\n",
       "England                          80\n",
       "Vietnam                          79\n",
       "Italy                            71\n",
       "Poland                           70\n",
       "Haiti                            66\n",
       "Japan                            60\n",
       "Portugal                         55\n",
       "Nicaragua                        46\n",
       "Peru                             42\n",
       "Taiwan                           39\n",
       "Ecuador                          39\n",
       "Iran                             37\n",
       "Greece                           31\n",
       "Ireland                          26\n",
       "Thailand                         25\n",
       "Trinadad&Tobago                  25\n",
       "Hong                             22\n",
       "France                           22\n",
       "Outlying-US(Guam-USVI-etc)       22\n",
       "Laos                             21\n",
       "Cambodia                         19\n",
       "Scotland                         18\n",
       "Honduras                         18\n",
       "Yugoslavia                       15\n",
       "Hungary                          13\n",
       "Holand-Netherlands                1\n",
       "Name: count, dtype: int64"
      ]
     },
     "execution_count": 51,
     "metadata": {},
     "output_type": "execute_result"
    }
   ],
   "source": [
    "under50K_nativeCountry"
   ]
  },
  {
   "cell_type": "code",
   "execution_count": 52,
   "metadata": {},
   "outputs": [
    {
     "data": {
      "text/plain": [
       "Native_Country\n",
       "United-States                 10694\n",
       "Philippines                      85\n",
       "Canada                           63\n",
       "India                            62\n",
       "Germany                          58\n",
       "England                          47\n",
       "Mexico                           47\n",
       "China                            36\n",
       "Italy                            34\n",
       "Cuba                             34\n",
       "Japan                            32\n",
       "Taiwan                           26\n",
       "Iran                             22\n",
       "South                            20\n",
       "Puerto-Rico                      20\n",
       "Greece                           18\n",
       "Poland                           17\n",
       "France                           16\n",
       "Jamaica                          15\n",
       "Portugal                         12\n",
       "El-Salvador                      11\n",
       "Ireland                          11\n",
       "Cambodia                          9\n",
       "Haiti                             9\n",
       "Yugoslavia                        8\n",
       "Hong                              8\n",
       "Vietnam                           7\n",
       "Hungary                           6\n",
       "Ecuador                           6\n",
       "Thailand                          5\n",
       "Dominican-Republic                5\n",
       "Peru                              4\n",
       "Columbia                          4\n",
       "Nicaragua                         3\n",
       "Guatemala                         3\n",
       "Scotland                          3\n",
       "Trinadad&Tobago                   2\n",
       "Honduras                          2\n",
       "Laos                              2\n",
       "Outlying-US(Guam-USVI-etc)        1\n",
       "Name: count, dtype: int64"
      ]
     },
     "execution_count": 52,
     "metadata": {},
     "output_type": "execute_result"
    }
   ],
   "source": [
    "over50K_nativeCountry"
   ]
  },
  {
   "cell_type": "markdown",
   "metadata": {},
   "source": [
    "Mostly includes United States data.Majority of both income groups are from US."
   ]
  },
  {
   "cell_type": "code",
   "execution_count": 53,
   "metadata": {},
   "outputs": [
    {
     "name": "stdout",
     "output_type": "stream",
     "text": [
      "Income                      <=50K   >50K\n",
      "Native_Country                          \n",
      "Cambodia                       19      9\n",
      "Canada                        119     63\n",
      "China                          86     36\n",
      "Columbia                       81      4\n",
      "Cuba                          104     34\n",
      "Dominican-Republic             98      5\n",
      "Ecuador                        39      6\n",
      "El-Salvador                   144     11\n",
      "England                        80     47\n",
      "France                         22     16\n",
      "Germany                       148     58\n",
      "Greece                         31     18\n",
      "Guatemala                      85      3\n",
      "Haiti                          66      9\n",
      "Holand-Netherlands              1      0\n",
      "Honduras                       18      2\n",
      "Hong                           22      8\n",
      "Hungary                        13      6\n",
      "India                          89     62\n",
      "Iran                           37     22\n",
      "Ireland                        26     11\n",
      "Italy                          71     34\n",
      "Jamaica                        91     15\n",
      "Japan                          60     32\n",
      "Laos                           21      2\n",
      "Mexico                        904     47\n",
      "Nicaragua                      46      3\n",
      "Outlying-US(Guam-USVI-etc)     22      1\n",
      "Peru                           42      4\n",
      "Philippines                   210     85\n",
      "Poland                         70     17\n",
      "Portugal                       55     12\n",
      "Puerto-Rico                   164     20\n",
      "Scotland                       18      3\n",
      "South                          95     20\n",
      "Taiwan                         39     26\n",
      "Thailand                       25      5\n",
      "Trinadad&Tobago                25      2\n",
      "United-States               33138  10694\n",
      "Vietnam                        79      7\n",
      "Yugoslavia                     15      8\n"
     ]
    }
   ],
   "source": [
    "# Create a cross-tabulation\n",
    "cross_tab = pd.crosstab(census_income_df['Native_Country'], census_income_df['Income'])\n",
    "\n",
    "# Display the cross-tabulation\n",
    "print(cross_tab)"
   ]
  },
  {
   "cell_type": "code",
   "execution_count": 54,
   "metadata": {},
   "outputs": [
    {
     "data": {
      "image/png": "[encoded data removed]",
      "text/plain": [
       "<Figure size 1000x600 with 1 Axes>"
      ]
     },
     "metadata": {},
     "output_type": "display_data"
    }
   ],
   "source": [
    "# Plot the cross-tabulation as a stacked bar chart\n",
    "cross_tab.plot(kind='bar', stacked=True, figsize=(10, 6))\n",
    "plt.title('Distribution of Native Country by Income Class')\n",
    "plt.xlabel('Native Country')\n",
    "plt.ylabel('Count')\n",
    "plt.xticks(rotation=90)  \n",
    "plt.show()"
   ]
  },
  {
   "cell_type": "markdown",
   "metadata": {},
   "source": [
    "Plot Native countries according to the Income classes"
   ]
  },
  {
   "cell_type": "code",
   "execution_count": 55,
   "metadata": {},
   "outputs": [
    {
     "data": {
      "image/png": "[encoded data removed]",
      "text/plain": [
       "<Figure size 3000x500 with 2 Axes>"
      ]
     },
     "metadata": {},
     "output_type": "display_data"
    }
   ],
   "source": [
    "#colors \n",
    "under50K_color = ['#EB5723', '#FBB619']\n",
    "over50K_color = ['#7FBA41', '#30A6DE']\n",
    "\n",
    "# Plotting them side by side\n",
    "fig, (ax1, ax2) = plt.subplots(1,2, figsize = (30,5))\n",
    "\n",
    "ax1.bar(under50K_nativeCountry.index,under50K_nativeCountry.values,color=under50K_color)\n",
    "ax1.set_xlabel(\"Native Country\")\n",
    "ax1.set_ylabel(\"Frequency of Native Country\")\n",
    "ax1.set_title(\"Under 50K Native Country (<=50K)\")\n",
    "ax1.tick_params(axis='x', rotation=45) # Rotate x-axis labels for better readability\n",
    "\n",
    "\n",
    "ax2.bar(over50K_nativeCountry.index,over50K_nativeCountry.values,color=over50K_color)\n",
    "ax2.set_xlabel(\"Native Country\")\n",
    "ax2.set_ylabel(\"Frequency of Native Country\")\n",
    "ax2.set_title(\"Over 50K Work Native Country (>50K)\")\n",
    "ax2.tick_params(axis='x', rotation=45)"
   ]
  },
  {
   "cell_type": "code",
   "execution_count": 56,
   "metadata": {},
   "outputs": [
    {
     "name": "stdout",
     "output_type": "stream",
     "text": [
      "Percentage of 'United-States' in Native country column: 89.74243478973015\n"
     ]
    }
   ],
   "source": [
    "# Calculate the count of \"United-States\" occurrences\n",
    "us_count = census_income_df['Native_Country'].value_counts().get('United-States', 0)\n",
    "\n",
    "# Calculate the total number of entries in the \"Native_Country\" column\n",
    "total_entries = len(census_income_df)\n",
    "\n",
    "# Calculate the percentage\n",
    "us_percentage = (us_count / total_entries) * 100\n",
    "\n",
    "print(\"Percentage of 'United-States' in Native country column:\", us_percentage)"
   ]
  },
  {
   "cell_type": "markdown",
   "metadata": {},
   "source": [
    "So I can fill null values of Native Country column with \"United-States\""
   ]
  },
  {
   "cell_type": "code",
   "execution_count": 57,
   "metadata": {},
   "outputs": [],
   "source": [
    "census_income_df['Native_Country'] = census_income_df['Native_Country'].fillna('United-States')"
   ]
  },
  {
   "cell_type": "markdown",
   "metadata": {},
   "source": [
    "Check if 'Native country' column is ok now."
   ]
  },
  {
   "cell_type": "code",
   "execution_count": 58,
   "metadata": {},
   "outputs": [
    {
     "name": "stdout",
     "output_type": "stream",
     "text": [
      "['United-States' 'Scotland' 'Dominican-Republic' 'Cuba' 'Mexico' 'China'\n",
      " 'Laos' 'France' 'Philippines' 'Hungary' 'Canada' 'El-Salvador' 'Ireland'\n",
      " 'Jamaica' 'South' 'Thailand' 'Poland' 'Columbia' 'Taiwan' 'Japan'\n",
      " 'England' 'India' 'Portugal' 'Honduras' 'Iran' 'Greece' 'Vietnam'\n",
      " 'Puerto-Rico' 'Italy' 'Cambodia' 'Haiti' 'Nicaragua' 'Germany' 'Hong'\n",
      " 'Guatemala' 'Peru' 'Yugoslavia' 'Outlying-US(Guam-USVI-etc)' 'Ecuador'\n",
      " 'Trinadad&Tobago' 'Holand-Netherlands']\n"
     ]
    }
   ],
   "source": [
    "#check unique values of Work_class column\n",
    "print(census_income_df['Native_Country'].unique())"
   ]
  },
  {
   "cell_type": "code",
   "execution_count": 59,
   "metadata": {},
   "outputs": [
    {
     "name": "stdout",
     "output_type": "stream",
     "text": [
      "<class 'pandas.core.frame.DataFrame'>\n",
      "RangeIndex: 48842 entries, 0 to 48841\n",
      "Data columns (total 15 columns):\n",
      " #   Column          Non-Null Count  Dtype \n",
      "---  ------          --------------  ----- \n",
      " 0   Age             48842 non-null  int64 \n",
      " 1   Work_class      48842 non-null  object\n",
      " 2   Final_Weight    48842 non-null  int64 \n",
      " 3   Education       48842 non-null  object\n",
      " 4   Education_Num   48842 non-null  int64 \n",
      " 5   Marital_Status  48842 non-null  object\n",
      " 6   Occupation      48842 non-null  object\n",
      " 7   Relationship    48842 non-null  object\n",
      " 8   Race            48842 non-null  object\n",
      " 9   Sex             48842 non-null  object\n",
      " 10  Capital_Gain    48842 non-null  int64 \n",
      " 11  Capital_Loss    48842 non-null  int64 \n",
      " 12  Hours_per_Week  48842 non-null  int64 \n",
      " 13  Native_Country  48842 non-null  object\n",
      " 14  Income          48842 non-null  object\n",
      "dtypes: int64(6), object(9)\n",
      "memory usage: 5.6+ MB\n"
     ]
    }
   ],
   "source": [
    "census_income_df.info()"
   ]
  },
  {
   "cell_type": "markdown",
   "metadata": {},
   "source": [
    "All null values are filled"
   ]
  },
  {
   "cell_type": "markdown",
   "metadata": {},
   "source": [
    "### 3. Remove duplicate rows"
   ]
  },
  {
   "cell_type": "markdown",
   "metadata": {},
   "source": [
    "Reference - https://pandas.pydata.org/pandas-docs/stable/reference/api/pandas.DataFrame.drop_duplicates.html"
   ]
  },
  {
   "cell_type": "code",
   "execution_count": 60,
   "metadata": {},
   "outputs": [
    {
     "data": {
      "text/plain": [
       "(48842, 15)"
      ]
     },
     "execution_count": 60,
     "metadata": {},
     "output_type": "execute_result"
    }
   ],
   "source": [
    "# Number of Rows and Cols in DF\n",
    "census_income_df.shape"
   ]
  },
  {
   "cell_type": "code",
   "execution_count": 61,
   "metadata": {},
   "outputs": [
    {
     "name": "stdout",
     "output_type": "stream",
     "text": [
      "Number of duplicate rows : 53\n"
     ]
    }
   ],
   "source": [
    "# Check how many duplicate rows in the DF\n",
    "duplicate_rows = census_income_df.duplicated().sum()\n",
    "\n",
    "print(\"Number of duplicate rows :\", duplicate_rows)"
   ]
  },
  {
   "cell_type": "code",
   "execution_count": 62,
   "metadata": {},
   "outputs": [],
   "source": [
    "# keep - Drop duplicates except for the first occurrence.\n",
    "# inplace - Modify the DataFrame directly\n",
    "census_income_df.drop_duplicates(keep='first', inplace=True)"
   ]
  },
  {
   "cell_type": "code",
   "execution_count": 63,
   "metadata": {},
   "outputs": [
    {
     "data": {
      "text/plain": [
       "(48789, 15)"
      ]
     },
     "execution_count": 63,
     "metadata": {},
     "output_type": "execute_result"
    }
   ],
   "source": [
    "# Number of Rows and Cols after dropping the duplicate Rows in DF\n",
    "census_income_df.shape"
   ]
  },
  {
   "cell_type": "code",
   "execution_count": 64,
   "metadata": {},
   "outputs": [
    {
     "name": "stdout",
     "output_type": "stream",
     "text": [
      "<class 'pandas.core.frame.DataFrame'>\n",
      "Index: 48789 entries, 0 to 48841\n",
      "Data columns (total 15 columns):\n",
      " #   Column          Non-Null Count  Dtype \n",
      "---  ------          --------------  ----- \n",
      " 0   Age             48789 non-null  int64 \n",
      " 1   Work_class      48789 non-null  object\n",
      " 2   Final_Weight    48789 non-null  int64 \n",
      " 3   Education       48789 non-null  object\n",
      " 4   Education_Num   48789 non-null  int64 \n",
      " 5   Marital_Status  48789 non-null  object\n",
      " 6   Occupation      48789 non-null  object\n",
      " 7   Relationship    48789 non-null  object\n",
      " 8   Race            48789 non-null  object\n",
      " 9   Sex             48789 non-null  object\n",
      " 10  Capital_Gain    48789 non-null  int64 \n",
      " 11  Capital_Loss    48789 non-null  int64 \n",
      " 12  Hours_per_Week  48789 non-null  int64 \n",
      " 13  Native_Country  48789 non-null  object\n",
      " 14  Income          48789 non-null  object\n",
      "dtypes: int64(6), object(9)\n",
      "memory usage: 6.0+ MB\n"
     ]
    }
   ],
   "source": [
    "census_income_df.info()"
   ]
  },
  {
   "cell_type": "markdown",
   "metadata": {},
   "source": [
    "### 4.Standardizing Data"
   ]
  },
  {
   "cell_type": "markdown",
   "metadata": {},
   "source": [
    "Data standardization transforms data into a consistent format across datasets, typically by scaling it to have a mean of zero and a standard deviation of one. This ensures uniformity and facilitates accurate comparison and analysis across variables."
   ]
  },
  {
   "cell_type": "markdown",
   "metadata": {},
   "source": [
    "Reference - https://atlan.com/standardize-data/ , "
   ]
  },
  {
   "cell_type": "code",
   "execution_count": 65,
   "metadata": {},
   "outputs": [
    {
     "name": "stdout",
     "output_type": "stream",
     "text": [
      "Age\n",
      "[22 40 37 19 50 21 39 26 33 43 17 52 25 42 35 45 41 72 38 54 27 31 23 90\n",
      " 29 46 20 59 30 36 53 18 24 32 63 28 61 49 76 67 34 47 44 48 65 62 55 60\n",
      " 64 51 57 58 68 78 70 69 56 77 66 71 75 81 79 73 74 83 80 84 82 88 86 85\n",
      " 87 89]\n",
      "\n",
      "\n",
      "Work_class\n",
      "['Private' 'State-gov' 'Local-gov' 'Self-emp-inc' 'Federal-gov'\n",
      " 'Self-emp-not-inc' 'Without-pay' 'Never-worked']\n",
      "\n",
      "\n",
      "Final_Weight\n",
      "[187052 373050 202662 ... 268952 187689 184424]\n",
      "\n",
      "\n",
      "Education\n",
      "['HS-grad' '12th' '10th' 'Some-college' 'Bachelors' '11th' 'Doctorate'\n",
      " 'Masters' 'Assoc-voc' '7th-8th' '9th' 'Prof-school' '5th-6th'\n",
      " 'Assoc-acdm' '1st-4th' 'Preschool']\n",
      "\n",
      "\n",
      "Education_Num\n",
      "[ 9  8  6 10 13  7 16 14 11  4  5 15  3 12  2  1]\n",
      "\n",
      "\n",
      "Marital_Status\n",
      "['Never-married' 'Married-civ-spouse' 'Divorced' 'Married-spouse-absent'\n",
      " 'Separated' 'Widowed' 'Married-AF-spouse']\n",
      "\n",
      "\n",
      "Occupation\n",
      "['Adm-clerical' 'Other-service' 'Transport-moving' 'Farming-fishing'\n",
      " 'Prof-specialty' 'Machine-op-inspct' 'Tech-support' 'Sales'\n",
      " 'Exec-managerial' 'Craft-repair' 'Protective-serv' 'Handlers-cleaners'\n",
      " 'Armed-Forces' 'Priv-house-serv']\n",
      "\n",
      "\n",
      "Relationship\n",
      "['Own-child' 'Husband' 'Unmarried' 'Not-in-family' 'Wife' 'Other-relative']\n",
      "\n",
      "\n",
      "Race\n",
      "['White' 'Amer-Indian-Eskimo' 'Asian-Pac-Islander' 'Black' 'Other']\n",
      "\n",
      "\n",
      "Sex\n",
      "['Female' 'Male']\n",
      "\n",
      "\n",
      "Capital_Gain\n",
      "[    0 14084  6497  7688  6723  4064 15024 10566  3325  2174   401  2329\n",
      "  7298 13550  9386  7430  2597  5013  4787  2414  2829  5178  3103   991\n",
      " 20051  1151 99999 15020 34095  2354  2580  4416  2202  1831  4508  3411\n",
      "  2463  3137  4386  1797   594  4650  5455 14344  4934  2050  3908  2538\n",
      "  3464  2036  6849  2290  1506   114  2653  5556 27828 15831  4101  2964\n",
      " 10520  3781  1471  8614  2176  4931  6514   914  1055  3674  3942  2885\n",
      "  6360  6418  2105 10605 25236  2961  9562  2993  1424  3418  1848  6097\n",
      "  2407  3887  7443  4865  3471  1639  3456  2977 18481  2346  2907  2936\n",
      "  3818  1409  1086  5721  5060  6767  2009  2635  1111  7896  2228  1173\n",
      "  2062 11678 41310  1455  4687  7978  3273 25124  3432  1264  7262  6612\n",
      "  2387  1731 22040]\n",
      "\n",
      "\n",
      "Capital_Loss\n",
      "[   0 1848 1602 1485 1590 1726 2231 2444 1977 1719 2824 1740 1672 1902\n",
      " 1980 1887 1408 3900 1564 2547 1944  974 1504 2392 2042 2179 1573 2246\n",
      " 1340 2051 1579 2001 2377 2129 2002 1974 1762 2258 2174 2559 2415  625\n",
      " 1735 1669 1825 2057 1594 1668 1876 1721 2149 2339 1617  323 2205 1138\n",
      " 4356 1741 1628  880 1844 1870 2472 1816 2754 2282 1411 2352 1092 2238\n",
      " 2603  810 1911 1258 1380  653 1755 1539  155 2206 1651 1648  213 2467\n",
      " 3004 2457 2080 2163 2465 2267  419 3683 1421 2201 1429 3175 1510 3770\n",
      " 2489]\n",
      "\n",
      "\n",
      "Hours_per_Week\n",
      "[40 48 16 42 55 15 44 35 50 45 20 43 60 56  8 25 38 52 36 30 37 10 65 47\n",
      " 99  3 62 41 12 70 90  6 27 11 18 80 74 24 26  1  4 33 53 32 75 61 46  7\n",
      " 54 21 28 17 84 57 22 72 96 39 14  5 34  2 59 78 31 76 13 58  9 23 63 95\n",
      " 98 92 68 19 49 64 66 88 67 29 77 85 73 79 51 94 97 86 82 81 89 69 91 87]\n",
      "\n",
      "\n",
      "Native_Country\n",
      "['United-States' 'Scotland' 'Dominican-Republic' 'Cuba' 'Mexico' 'China'\n",
      " 'Laos' 'France' 'Philippines' 'Hungary' 'Canada' 'El-Salvador' 'Ireland'\n",
      " 'Jamaica' 'South' 'Thailand' 'Poland' 'Columbia' 'Taiwan' 'Japan'\n",
      " 'England' 'India' 'Portugal' 'Honduras' 'Iran' 'Greece' 'Vietnam'\n",
      " 'Puerto-Rico' 'Italy' 'Cambodia' 'Haiti' 'Nicaragua' 'Germany' 'Hong'\n",
      " 'Guatemala' 'Peru' 'Yugoslavia' 'Outlying-US(Guam-USVI-etc)' 'Ecuador'\n",
      " 'Trinadad&Tobago' 'Holand-Netherlands']\n",
      "\n",
      "\n",
      "Income\n",
      "['<=50K' '>50K']\n",
      "\n",
      "\n"
     ]
    }
   ],
   "source": [
    "# unique values in each columns\n",
    "for column in census_income_df:\n",
    "    print(column)\n",
    "    print(census_income_df[column].unique())\n",
    "    print('\\n')"
   ]
  },
  {
   "cell_type": "code",
   "execution_count": 66,
   "metadata": {},
   "outputs": [],
   "source": [
    "# Convert all categorical variables to lowercase and remove leading/trailing whitespaces\n",
    "categorical_columns = ['Work_class', 'Education', 'Marital_Status', 'Occupation', 'Relationship', 'Race', 'Sex', 'Native_Country']\n",
    "\n",
    "for column in categorical_columns:\n",
    "    census_income_df[column] = census_income_df[column].str.lower().str.strip()"
   ]
  },
  {
   "cell_type": "code",
   "execution_count": 67,
   "metadata": {},
   "outputs": [
    {
     "name": "stdout",
     "output_type": "stream",
     "text": [
      "Age\n",
      "[22 40 37 19 50 21 39 26 33 43 17 52 25 42 35 45 41 72 38 54 27 31 23 90\n",
      " 29 46 20 59 30 36 53 18 24 32 63 28 61 49 76 67 34 47 44 48 65 62 55 60\n",
      " 64 51 57 58 68 78 70 69 56 77 66 71 75 81 79 73 74 83 80 84 82 88 86 85\n",
      " 87 89]\n",
      "\n",
      "\n",
      "Work_class\n",
      "['private' 'state-gov' 'local-gov' 'self-emp-inc' 'federal-gov'\n",
      " 'self-emp-not-inc' 'without-pay' 'never-worked']\n",
      "\n",
      "\n",
      "Final_Weight\n",
      "[187052 373050 202662 ... 268952 187689 184424]\n",
      "\n",
      "\n",
      "Education\n",
      "['hs-grad' '12th' '10th' 'some-college' 'bachelors' '11th' 'doctorate'\n",
      " 'masters' 'assoc-voc' '7th-8th' '9th' 'prof-school' '5th-6th'\n",
      " 'assoc-acdm' '1st-4th' 'preschool']\n",
      "\n",
      "\n",
      "Education_Num\n",
      "[ 9  8  6 10 13  7 16 14 11  4  5 15  3 12  2  1]\n",
      "\n",
      "\n",
      "Marital_Status\n",
      "['never-married' 'married-civ-spouse' 'divorced' 'married-spouse-absent'\n",
      " 'separated' 'widowed' 'married-af-spouse']\n",
      "\n",
      "\n",
      "Occupation\n",
      "['adm-clerical' 'other-service' 'transport-moving' 'farming-fishing'\n",
      " 'prof-specialty' 'machine-op-inspct' 'tech-support' 'sales'\n",
      " 'exec-managerial' 'craft-repair' 'protective-serv' 'handlers-cleaners'\n",
      " 'armed-forces' 'priv-house-serv']\n",
      "\n",
      "\n",
      "Relationship\n",
      "['own-child' 'husband' 'unmarried' 'not-in-family' 'wife' 'other-relative']\n",
      "\n",
      "\n",
      "Race\n",
      "['white' 'amer-indian-eskimo' 'asian-pac-islander' 'black' 'other']\n",
      "\n",
      "\n",
      "Sex\n",
      "['female' 'male']\n",
      "\n",
      "\n",
      "Capital_Gain\n",
      "[    0 14084  6497  7688  6723  4064 15024 10566  3325  2174   401  2329\n",
      "  7298 13550  9386  7430  2597  5013  4787  2414  2829  5178  3103   991\n",
      " 20051  1151 99999 15020 34095  2354  2580  4416  2202  1831  4508  3411\n",
      "  2463  3137  4386  1797   594  4650  5455 14344  4934  2050  3908  2538\n",
      "  3464  2036  6849  2290  1506   114  2653  5556 27828 15831  4101  2964\n",
      " 10520  3781  1471  8614  2176  4931  6514   914  1055  3674  3942  2885\n",
      "  6360  6418  2105 10605 25236  2961  9562  2993  1424  3418  1848  6097\n",
      "  2407  3887  7443  4865  3471  1639  3456  2977 18481  2346  2907  2936\n",
      "  3818  1409  1086  5721  5060  6767  2009  2635  1111  7896  2228  1173\n",
      "  2062 11678 41310  1455  4687  7978  3273 25124  3432  1264  7262  6612\n",
      "  2387  1731 22040]\n",
      "\n",
      "\n",
      "Capital_Loss\n",
      "[   0 1848 1602 1485 1590 1726 2231 2444 1977 1719 2824 1740 1672 1902\n",
      " 1980 1887 1408 3900 1564 2547 1944  974 1504 2392 2042 2179 1573 2246\n",
      " 1340 2051 1579 2001 2377 2129 2002 1974 1762 2258 2174 2559 2415  625\n",
      " 1735 1669 1825 2057 1594 1668 1876 1721 2149 2339 1617  323 2205 1138\n",
      " 4356 1741 1628  880 1844 1870 2472 1816 2754 2282 1411 2352 1092 2238\n",
      " 2603  810 1911 1258 1380  653 1755 1539  155 2206 1651 1648  213 2467\n",
      " 3004 2457 2080 2163 2465 2267  419 3683 1421 2201 1429 3175 1510 3770\n",
      " 2489]\n",
      "\n",
      "\n",
      "Hours_per_Week\n",
      "[40 48 16 42 55 15 44 35 50 45 20 43 60 56  8 25 38 52 36 30 37 10 65 47\n",
      " 99  3 62 41 12 70 90  6 27 11 18 80 74 24 26  1  4 33 53 32 75 61 46  7\n",
      " 54 21 28 17 84 57 22 72 96 39 14  5 34  2 59 78 31 76 13 58  9 23 63 95\n",
      " 98 92 68 19 49 64 66 88 67 29 77 85 73 79 51 94 97 86 82 81 89 69 91 87]\n",
      "\n",
      "\n",
      "Native_Country\n",
      "['united-states' 'scotland' 'dominican-republic' 'cuba' 'mexico' 'china'\n",
      " 'laos' 'france' 'philippines' 'hungary' 'canada' 'el-salvador' 'ireland'\n",
      " 'jamaica' 'south' 'thailand' 'poland' 'columbia' 'taiwan' 'japan'\n",
      " 'england' 'india' 'portugal' 'honduras' 'iran' 'greece' 'vietnam'\n",
      " 'puerto-rico' 'italy' 'cambodia' 'haiti' 'nicaragua' 'germany' 'hong'\n",
      " 'guatemala' 'peru' 'yugoslavia' 'outlying-us(guam-usvi-etc)' 'ecuador'\n",
      " 'trinadad&tobago' 'holand-netherlands']\n",
      "\n",
      "\n",
      "Income\n",
      "['<=50K' '>50K']\n",
      "\n",
      "\n"
     ]
    }
   ],
   "source": [
    "# unique values in each columns\n",
    "for column in census_income_df:\n",
    "    print(column)\n",
    "    print(census_income_df[column].unique())\n",
    "    print('\\n')"
   ]
  },
  {
   "cell_type": "markdown",
   "metadata": {},
   "source": [
    "### 5.Handling Outliers"
   ]
  },
  {
   "cell_type": "markdown",
   "metadata": {},
   "source": [
    "Outliers are data points that significantly differ from other observations in a dataset. They can arise due to various reasons such as measurement errors, data entry errors, or genuine variability in the data. "
   ]
  },
  {
   "cell_type": "markdown",
   "metadata": {},
   "source": [
    "Reference - https://www.linkedin.com/pulse/handling-outliers-ml-best-practices-robust-data-iain-brown-ph-d--mwf6e/, https://towardsdatascience.com/outlier-detection-methods-in-machine-learning-1c8b7cca6cb8"
   ]
  },
  {
   "cell_type": "markdown",
   "metadata": {},
   "source": [
    " 0   Age             48789 non-null  int64 \n",
    " 1   Work_class      48789 non-null  object\n",
    " 2   Final_Weight    48789 non-null  int64 \n",
    " 3   Education       48789 non-null  object\n",
    " 4   Education_Num   48789 non-null  int64 \n",
    " 5   Marital_Status  48789 non-null  object\n",
    " 6   Occupation      48789 non-null  object\n",
    " 7   Relationship    48789 non-null  object\n",
    " 8   Race            48789 non-null  object\n",
    " 9   Sex             48789 non-null  object\n",
    " 10  Capital_Gain    48789 non-null  int64 \n",
    " 11  Capital_Loss    48789 non-null  int64 \n",
    " 12  Hours_per_Week  48789 non-null  int64 \n",
    " 13  Native_Country  48789 non-null  object\n",
    " 14  Income          48789 non-null  object"
   ]
  },
  {
   "cell_type": "markdown",
   "metadata": {},
   "source": [
    "### Handle Age column outliers"
   ]
  },
  {
   "cell_type": "markdown",
   "metadata": {},
   "source": [
    "Distribution of Age column"
   ]
  },
  {
   "cell_type": "code",
   "execution_count": 78,
   "metadata": {},
   "outputs": [
    {
     "data": {
      "image/png": "[encoded data removed]",
      "text/plain": [
       "<Figure size 2000x600 with 1 Axes>"
      ]
     },
     "metadata": {},
     "output_type": "display_data"
    }
   ],
   "source": [
    "# Plot histogram for Age column\n",
    "plt.figure(figsize=(20, 6))\n",
    "plt.hist(census_income_df['Age'], bins=15, color='skyblue', edgecolor='black')  #bins -> range divided into intervals (age range will be divided into 20 equally spaced intervals) \n",
    "plt.title('Histogram of Age')\n",
    "plt.xlabel('Age')\n",
    "plt.ylabel('Frequency')\n",
    "plt.grid(True)\n",
    "plt.show()"
   ]
  },
  {
   "cell_type": "markdown",
   "metadata": {},
   "source": [
    "The Age column has Right-skewed distribution"
   ]
  },
  {
   "cell_type": "code",
   "execution_count": 68,
   "metadata": {},
   "outputs": [
    {
     "name": "stdout",
     "output_type": "stream",
     "text": [
      "Lower limit: -2.0\n",
      "Upper limit: 78.0\n",
      "Number of outliers detected by Z-score method: 185\n",
      "Number of outliers detected by IQR method: 215\n"
     ]
    }
   ],
   "source": [
    "age_data = census_income_df['Age']\n",
    "\n",
    "# Method 1: Z-score\n",
    "z_scores = (age_data - age_data.mean()) / age_data.std()\n",
    "outliers_zscore = census_income_df[np.abs(z_scores) > 3]\n",
    "\n",
    "# Method 2: IQR (Interquartile Range)\n",
    "Q1 = age_data.quantile(0.25)\n",
    "Q3 = age_data.quantile(0.75)\n",
    "IQR = Q3 - Q1\n",
    "lower_bound = Q1 - 1.5 * IQR\n",
    "upper_bound = Q3 + 1.5 * IQR\n",
    "outliers_iqr = census_income_df[(age_data < lower_bound) | (age_data > upper_bound)]\n",
    "print(\"Lower limit:\", lower_bound)\n",
    "print(\"Upper limit:\", upper_bound)\n",
    "\n",
    "# Print the number of outliers detected by each method\n",
    "print(\"Number of outliers detected by Z-score method:\", len(outliers_zscore))\n",
    "print(\"Number of outliers detected by IQR method:\", len(outliers_iqr))"
   ]
  },
  {
   "cell_type": "code",
   "execution_count": 69,
   "metadata": {},
   "outputs": [
    {
     "data": {
      "image/png": "[encoded data removed]",
      "text/plain": [
       "<Figure size 1000x600 with 1 Axes>"
      ]
     },
     "metadata": {},
     "output_type": "display_data"
    }
   ],
   "source": [
    "# Create a box plot for the \"Age\" column\n",
    "plt.figure(figsize=(10, 6))\n",
    "sns.boxplot(x=census_income_df[\"Age\"])\n",
    "plt.title(\"Distribution of Age\")\n",
    "plt.xlabel(\"Age\")\n",
    "plt.show()"
   ]
  },
  {
   "cell_type": "code",
   "execution_count": 71,
   "metadata": {},
   "outputs": [
    {
     "data": {
      "text/plain": [
       "count    48789.000000\n",
       "mean        38.652647\n",
       "std         13.708593\n",
       "min         17.000000\n",
       "25%         28.000000\n",
       "50%         37.000000\n",
       "75%         48.000000\n",
       "max         90.000000\n",
       "Name: Age, dtype: float64"
      ]
     },
     "execution_count": 71,
     "metadata": {},
     "output_type": "execute_result"
    }
   ],
   "source": [
    "census_income_df['Age'].describe()"
   ]
  },
  {
   "cell_type": "markdown",
   "metadata": {},
   "source": [
    "The Age column has Right-skewed distribution. So IQR method might be a better choice."
   ]
  }
 ],
 "metadata": {
  "kernelspec": {
   "display_name": "Python 3",
   "language": "python",
   "name": "python3"
  },
  "language_info": {
   "codemirror_mode": {
    "name": "ipython",
    "version": 3
   },
   "file_extension": ".py",
   "mimetype": "text/x-python",
   "name": "python",
   "nbconvert_exporter": "python",
   "pygments_lexer": "ipython3",
   "version": "3.11.4"
  }
 },
 "nbformat": 4,
 "nbformat_minor": 2
}
