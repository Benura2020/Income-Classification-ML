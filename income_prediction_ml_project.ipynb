{
 "cells": [
  {
   "cell_type": "markdown",
   "metadata": {},
   "source": [
    "Predicting whether income exceeds $50K/yr based on census data. "
   ]
  },
  {
   "cell_type": "markdown",
   "metadata": {},
   "source": [
    "dataset - https://archive.ics.uci.edu/dataset/2/adult"
   ]
  },
  {
   "cell_type": "markdown",
   "metadata": {},
   "source": [
    "Attributes \n",
    "\n",
    "age: continuous.\n",
    "workclass: Private, Self-emp-not-inc, Self-emp-inc, Federal-gov, Local-gov, State-gov, Without-pay, Never-worked.\n",
    "fnlwgt: continuous.\n",
    "education: Bachelors, Some-college, 11th, HS-grad, Prof-school, Assoc-acdm, Assoc-voc, 9th, 7th-8th, 12th, Masters, 1st-4th, 10th, Doctorate, 5th-6th, Preschool.\n",
    "education-num: continuous.\n",
    "marital-status: Married-civ-spouse, Divorced, Never-married, Separated, Widowed, Married-spouse-absent, Married-AF-spouse.\n",
    "occupation: Tech-support, Craft-repair, Other-service, Sales, Exec-managerial, Prof-specialty, Handlers-cleaners, Machine-op-inspct, Adm-clerical, Farming-fishing, Transport-moving, Priv-house-serv, Protective-serv, Armed-Forces.\n",
    "relationship: Wife, Own-child, Husband, Not-in-family, Other-relative, Unmarried.\n",
    "race: White, Asian-Pac-Islander, Amer-Indian-Eskimo, Other, Black.\n",
    "sex: Female, Male.\n",
    "capital-gain: continuous.\n",
    "capital-loss: continuous.\n",
    "hours-per-week: continuous.\n",
    "native-country: United-States, Cambodia, England, Puerto-Rico, Canada, Germany, Outlying-US(Guam-USVI-etc), India, Japan, Greece, South, China, Cuba, Iran, Honduras, Philippines, Italy, Poland, Jamaica, Vietnam, Mexico, Portugal, Ireland, France, Dominican-Republic, Laos, Ecuador, Taiwan, Haiti, Columbia, Hungary, Guatemala, Nicaragua, Scotland, Thailand, Yugoslavia, El-Salvador, Trinadad&Tobago, Peru, Hong, Holand-Netherlands.\n",
    "income: >50K, <=50K."
   ]
  },
  {
   "cell_type": "code",
   "execution_count": 5,
   "metadata": {},
   "outputs": [],
   "source": [
    "import pandas as pd\n",
    "import matplotlib.pyplot as plt"
   ]
  },
  {
   "cell_type": "code",
   "execution_count": 6,
   "metadata": {},
   "outputs": [],
   "source": [
    "import os"
   ]
  },
  {
   "cell_type": "markdown",
   "metadata": {},
   "source": [
    "Create DataFrames"
   ]
  },
  {
   "cell_type": "code",
   "execution_count": 16,
   "metadata": {},
   "outputs": [],
   "source": [
    "# define training and testing file paths\n",
    "train_data_file_path = 'Dataset\\\\adult.data'\n",
    "test_data_file_path = 'Dataset\\\\adult.test'"
   ]
  },
  {
   "cell_type": "code",
   "execution_count": 18,
   "metadata": {},
   "outputs": [],
   "source": [
    "# define column names\n",
    "column_names = [\n",
    "    \"Age\", \n",
    "    \"Work_class\", \n",
    "    \"Final_Weight\", \n",
    "    \"Education\", \n",
    "    \"Education_Num\", \n",
    "    \"Marital_Status\", \n",
    "    \"Occupation\",\n",
    "    \"Relationship\", \n",
    "    \"Race\", \n",
    "    \"Sex\", \n",
    "    \"Capital_Gain\", \n",
    "    \"Capital_Loss\", \n",
    "    \"Hours_per_Week\", \n",
    "    \"Native_Country\",\n",
    "    \"Income\"\n",
    "]"
   ]
  },
  {
   "cell_type": "markdown",
   "metadata": {},
   "source": [
    "references - https://pandas.pydata.org/pandas-docs/stable/reference/api/pandas.read_csv.html"
   ]
  },
  {
   "cell_type": "code",
   "execution_count": 19,
   "metadata": {},
   "outputs": [],
   "source": [
    "# read training dataset into DataFrame\n",
    "try:\n",
    "    train_data = pd.read_csv(train_data_file_path, delimiter=',', names=column_names, skipinitialspace=True)\n",
    "except FileNotFoundError:\n",
    "    print(f\"Error: File '{train_data_file_path}' not found.\")\n",
    "    exit()"
   ]
  },
  {
   "cell_type": "code",
   "execution_count": 20,
   "metadata": {},
   "outputs": [],
   "source": [
    "# read testing dataset into DataFrame\n",
    "# 1st row (header)should remove in adult.test file \n",
    "try:\n",
    "    test_data = pd.read_csv(test_data_file_path, delimiter=',', names=column_names, skipinitialspace=True, skiprows=1)\n",
    "except FileNotFoundError:\n",
    "    print(f\"Error: File '{test_data_file_path}' not found.\")\n",
    "    exit()"
   ]
  },
  {
   "cell_type": "code",
   "execution_count": 21,
   "metadata": {},
   "outputs": [],
   "source": [
    "# CSV file saving directory checking\n",
    "directory = os.path.dirname(train_data_file_path)\n",
    "if not os.path.exists(directory):\n",
    "    os.makedirs(directory)"
   ]
  },
  {
   "cell_type": "code",
   "execution_count": 22,
   "metadata": {},
   "outputs": [],
   "source": [
    "# define file paths to save training and testing datasets as CSV\n",
    "train_csv_file_path = os.path.join(directory, 'adult_train.csv')\n",
    "test_csv_file_path = os.path.join(directory, 'adult_test.csv')"
   ]
  },
  {
   "cell_type": "code",
   "execution_count": 23,
   "metadata": {},
   "outputs": [
    {
     "name": "stdout",
     "output_type": "stream",
     "text": [
      "Training CSV file saved successfully at: Dataset\\adult_train.csv\n",
      "Testing CSV file saved successfully at: Dataset\\adult_test.csv\n"
     ]
    }
   ],
   "source": [
    "# save training and testing DataFrames as CSV\n",
    "try:\n",
    "    train_data.to_csv(train_csv_file_path, index=False)\n",
    "    print(f\"Training CSV file saved successfully at: {train_csv_file_path}\")\n",
    "\n",
    "    test_data.to_csv(test_csv_file_path, index=False)\n",
    "    print(f\"Testing CSV file saved successfully at: {test_csv_file_path}\")\n",
    "except PermissionError:\n",
    "    print(f\"Error: Permission denied to save files in directory: {directory}\")"
   ]
  },
  {
   "cell_type": "markdown",
   "metadata": {},
   "source": []
  },
  {
   "cell_type": "code",
   "execution_count": null,
   "metadata": {},
   "outputs": [],
   "source": []
  }
 ],
 "metadata": {
  "kernelspec": {
   "display_name": "Python 3",
   "language": "python",
   "name": "python3"
  },
  "language_info": {
   "codemirror_mode": {
    "name": "ipython",
    "version": 3
   },
   "file_extension": ".py",
   "mimetype": "text/x-python",
   "name": "python",
   "nbconvert_exporter": "python",
   "pygments_lexer": "ipython3",
   "version": "3.11.4"
  }
 },
 "nbformat": 4,
 "nbformat_minor": 2
}
