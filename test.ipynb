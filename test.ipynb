{
 "cells": [
  {
   "cell_type": "code",
   "execution_count": null,
   "metadata": {},
   "outputs": [],
   "source": [
    "age_data = census_income_df['Age']\n",
    "\n",
    "# Method 1: Z-score\n",
    "z_scores = (age_data - age_data.mean()) / age_data.std()\n",
    "outliers_zscore = census_income_df[np.abs(z_scores) > 3]\n",
    "\n",
    "# Method 2: IQR (Interquartile Range)\n",
    "Q1 = age_data.quantile(0.25)\n",
    "Q3 = age_data.quantile(0.75)\n",
    "IQR = Q3 - Q1\n",
    "lower_bound = Q1 - 1.5 * IQR\n",
    "upper_bound = Q3 + 1.5 * IQR\n",
    "outliers_iqr = census_income_df[(age_data < lower_bound) | (age_data > upper_bound)]\n",
    "print(\"Lower limit:\", lower_bound)\n",
    "print(\"Upper limit:\", upper_bound)\n",
    "\n",
    "# Print the number of outliers detected by each method\n",
    "print(\"Number of outliers detected by Z-score method:\", len(outliers_zscore))\n",
    "print(\"Number of outliers detected by IQR method:\", len(outliers_iqr))"
   ]
  },
  {
   "cell_type": "markdown",
   "metadata": {},
   "source": [
    "By considering the correlation heatmap we can see 'Final_Weight' and 'Income' column has -0.0063 correlation. So we can remove 'Final_Weight' from the dataframe"
   ]
  },
  {
   "cell_type": "markdown",
   "metadata": {},
   "source": [
    "### Remove Final_Weight column"
   ]
  },
  {
   "cell_type": "code",
   "execution_count": null,
   "metadata": {},
   "outputs": [],
   "source": [
    "# Remove the 'Final_Weight' column from the dataframe\n",
    "census_income_df.drop(columns=['Final_Weight'], inplace=True)"
   ]
  }
 ],
 "metadata": {
  "language_info": {
   "name": "python"
  }
 },
 "nbformat": 4,
 "nbformat_minor": 2
}
